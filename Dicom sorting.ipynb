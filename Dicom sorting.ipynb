{
 "cells": [
  {
   "cell_type": "markdown",
   "metadata": {},
   "source": [
    "\\noindent __Erwann Rault__  \n",
    "_Centre Oscar Lambret (Lille)_"
   ]
  },
  {
   "cell_type": "code",
   "execution_count": 2,
   "metadata": {
    "code_folding": [
     0
    ],
    "collapsed": false
   },
   "outputs": [],
   "source": [
    "# DRAW MATPLOTLIB IN NOTEBOOK #\n",
    "\n",
    "%matplotlib inline\n",
    "# %matplotlib notebook\n"
   ]
  },
  {
   "cell_type": "code",
   "execution_count": 3,
   "metadata": {
    "code_folding": [
     0
    ],
    "collapsed": false
   },
   "outputs": [],
   "source": [
    "# LIBRARIES #\n",
    "\n",
    "import numpy as np\n",
    "import dicom as dcm\n",
    "import matplotlib.pyplot as plt\n",
    "import math\n",
    "import time\n",
    "import datetime\n",
    "\n",
    "from scipy import ndimage\n",
    "from ipywidgets import *\n",
    "\n",
    "from IPython import display\n",
    "from mpl_toolkits.axes_grid1 import make_axes_locatable\n",
    "from matplotlib import gridspec\n",
    "from os.path import basename\n",
    "\n",
    "import warnings\n",
    "warnings.filterwarnings('ignore')\n"
   ]
  },
  {
   "cell_type": "code",
   "execution_count": 4,
   "metadata": {
    "code_folding": [],
    "collapsed": false
   },
   "outputs": [],
   "source": [
    "# INPUT VARIABLES #\n",
    "\n",
    "filepath = 'X:/Med Nuc/CQ TEP-CT/EARL TEP phantoms/IQ 2016.11.03/'"
   ]
  },
  {
   "cell_type": "markdown",
   "metadata": {},
   "source": [
    "# Acquisition information"
   ]
  },
  {
   "cell_type": "code",
   "execution_count": 32,
   "metadata": {
    "code_folding": [],
    "collapsed": false
   },
   "outputs": [
    {
     "name": "stdout",
     "output_type": "stream",
     "text": [
      "Image no 1 : CTAC\n",
      "  > nb pix x : 512\n",
      "  > nb pix y : 512\n",
      "  > nb slices: 83\n",
      " \n",
      "Image no 2 : PET AC EARL _STD\n",
      "  > nb pix x : 256\n",
      "  > nb pix y : 256\n",
      "  > nb slices: 83\n",
      " \n",
      "Image no 3 : PET noAC\n",
      "  > nb pix x : 256\n",
      "  > nb pix y : 256\n",
      "  > nb slices: 83\n"
     ]
    }
   ],
   "source": [
    "# PARSE ALL DICOM FILES IN THE DIRECTORY #\n",
    "\n",
    "# Get the file list\n",
    "listFilesDCM = []  # creates an empty list\n",
    "for dirName, subdirList, fileList in os.walk(filepath):\n",
    "    for filename in fileList:\n",
    "        if \".dcm\" in filename.lower():  # check whether the file's DICOM\n",
    "            listFilesDCM.append(os.path.join(dirName,filename))\n",
    "            \n",
    "            \n",
    "# essayer avec series instance UID:\n",
    "seriesDescr = ''\n",
    "nbslices = 0\n",
    "nbimgs = 0\n",
    "listImgs = []\n",
    "listmp = []\n",
    "for filenameDCM in listFilesDCM:\n",
    "    ds = dcm.read_file(filenameDCM)\n",
    "    if (seriesDescr != ds[0x0008,0x103E].value):\n",
    "        if (seriesDescr != ''):\n",
    "            print '  > nb slices:', nbslices\n",
    "            print ' '\n",
    "            listmp.append(nbslices)\n",
    "            listImgs.append(listmp)\n",
    "            listmp = []\n",
    "        nbimgs = nbimgs + 1\n",
    "        seriesDescr = ds[0x0008,0x103E].value\n",
    "        nbslices = 1\n",
    "        print 'Image no', nbimgs, ':', seriesDescr\n",
    "        print '  > nb pix x :', ds.Rows\n",
    "        print '  > nb pix y :', ds.Columns\n",
    "        listmp.append(seriesDescr)\n",
    "        listmp.append(ds.Rows)\n",
    "        listmp.append(ds.Columns)\n",
    "    else:\n",
    "        nbslices = nbslices + 1\n",
    "print '  > nb slices:', nbslices\n",
    "listmp.append(nbslices)\n",
    "listImgs.append(listmp)\n"
   ]
  },
  {
   "cell_type": "code",
   "execution_count": null,
   "metadata": {
    "collapsed": true
   },
   "outputs": [],
   "source": []
  }
 ],
 "metadata": {
  "kernelspec": {
   "display_name": "Python 2",
   "language": "python",
   "name": "python2"
  },
  "language_info": {
   "codemirror_mode": {
    "name": "ipython",
    "version": 2
   },
   "file_extension": ".py",
   "mimetype": "text/x-python",
   "name": "python",
   "nbconvert_exporter": "python",
   "pygments_lexer": "ipython2",
   "version": "2.7.12"
  }
 },
 "nbformat": 4,
 "nbformat_minor": 0
}
