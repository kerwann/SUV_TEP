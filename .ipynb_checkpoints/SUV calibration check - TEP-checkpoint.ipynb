{
 "cells": [
  {
   "cell_type": "markdown",
   "metadata": {},
   "source": [
    "\\noindent __Erwann Rault__  \n",
    "_Centre Oscar Lambret (Lille)_"
   ]
  },
  {
   "cell_type": "code",
   "execution_count": 1,
   "metadata": {
    "code_folding": [
     0
    ],
    "collapsed": false
   },
   "outputs": [],
   "source": [
    "# DRAW MATPLOTLIB IN NOTEBOOK #\n",
    "\n",
    "%matplotlib inline\n",
    "# %matplotlib notebook\n"
   ]
  },
  {
   "cell_type": "code",
   "execution_count": 2,
   "metadata": {
    "code_folding": [
     0
    ],
    "collapsed": false
   },
   "outputs": [],
   "source": [
    "# LIBRARIES #\n",
    "\n",
    "import numpy as np\n",
    "import dicom as dcm\n",
    "import matplotlib.pyplot as plt\n",
    "import math\n",
    "import time\n",
    "import datetime\n",
    "\n",
    "from scipy import ndimage\n",
    "from ipywidgets import *\n",
    "\n",
    "from openpyxl import load_workbook\n",
    "from openpyxl.styles import Font, Color, colors\n",
    "\n",
    "from IPython import display\n",
    "from mpl_toolkits.axes_grid1 import make_axes_locatable\n",
    "from matplotlib import gridspec\n",
    "from os.path import basename\n",
    "\n",
    "import warnings\n",
    "warnings.filterwarnings('ignore')\n"
   ]
  },
  {
   "cell_type": "code",
   "execution_count": 66,
   "metadata": {
    "collapsed": false
   },
   "outputs": [],
   "source": [
    "# INPUT VARIABLES #\n",
    "\n",
    "# Dicom files:\n",
    "FILEPATH = 'X:/Med Nuc/CQ TEP-CT/CQ SUV/CQ EARL 2017.04.27'\n",
    "\n",
    "SERIES_UID = '1.2.840.113619.2.290.3.346820099.234.1493273540.672'\n",
    "\n",
    "# Results written to:\n",
    "EXCEL_FILE ='X:/Med Nuc/CQ TEP-CT/CQ TEP-CT.xlsx'\n",
    "EXCEL_SHEET = 'CQ SUV'\n",
    "\n",
    "# Injected activity:\n",
    "ISOTOPE_NAME = \"F18\"\n",
    "T1DEMI = 1.8295 # hours, half life from the isotope\n",
    "\n",
    "Ainj = 82.5 #MBq\n",
    "Tinj = datetime.datetime(2017,4,27,17,9)\n",
    "\n",
    "Ares = 0.00 #MBq\n",
    "Tres = datetime.datetime(2017,4,27,17,13)\n",
    "\n",
    "# CSTES #\n",
    "ROI_MARGIN = -7 #pix\n",
    "PHANTOM_THRESHOLD = 0.7"
   ]
  },
  {
   "cell_type": "markdown",
   "metadata": {},
   "source": [
    "# Acquisition information"
   ]
  },
  {
   "cell_type": "code",
   "execution_count": 67,
   "metadata": {
    "code_folding": [
     0
    ],
    "collapsed": true
   },
   "outputs": [],
   "source": [
    "# CONVERTS DICOM TIME INFO TO DATETIME #\n",
    "\n",
    "def convertToDatetime(date, time):\n",
    "    \"\"\"\n",
    "    Converts the time written in the DICOM tags to datetime format.\n",
    "    Parameters:\n",
    "      date - date\n",
    "      time - time\n",
    "    Return:\n",
    "      datetime - date and time in datetime format\n",
    "    \"\"\"\n",
    "    year = int(int(date)/10000)\n",
    "    month = int(int(date)/100-year*100)\n",
    "    day = int(int(date)-year*10000-month*100)\n",
    "    hour = int(float(time)/10000)\n",
    "    minute = int(float(time)/100-hour*100)\n",
    "    seconds =  int(float(time)-minute*100-hour*10000)\n",
    "    return datetime.datetime(year, month, day, hour, minute, seconds)"
   ]
  },
  {
   "cell_type": "code",
   "execution_count": 68,
   "metadata": {
    "code_folding": [
     0
    ],
    "collapsed": true
   },
   "outputs": [],
   "source": [
    "# READS THE DICOM FILE #\n",
    "\n",
    "\n",
    "def readDicomFiles(filepath):\n",
    "    \"\"\"\n",
    "    Reads the dicom files and returns an array containing the image,\n",
    "    the dimension of the image, and the ref. dicom file to be able \n",
    "    to access dicom tags.\n",
    "    Parameters:\n",
    "      filepath - path to the folder containing the dicom files of the image\n",
    "    Return:\n",
    "      pixArray - array containing the image\n",
    "      constPixDim - dimension of the image\n",
    "      ds - reference dicom file\n",
    "    \"\"\"\n",
    "\n",
    "    # Get the file list\n",
    "    print \"Imported Files :\"\n",
    "    listFilesDCM = []  # creates an empty list\n",
    "    for dirName, subdirList, fileList in os.walk(filepath):\n",
    "        for filename in fileList:\n",
    "            if \".dcm\" in filename.lower():  # check whether the file's DICOM\n",
    "                listFilesDCM.append(os.path.join(dirName,filename))\n",
    "                print \"  > \", filename\n",
    "    print \" \"\n",
    "    \n",
    "    # Get ref file\n",
    "    ds = dcm.read_file(listFilesDCM[0])\n",
    "\n",
    "    # Load dimensions:\n",
    "    nb_pixel_x = int(ds.Rows)\n",
    "    nb_pixel_y = int(ds.Columns)\n",
    "    nb_slices = len(listFilesDCM)\n",
    "    constPixDim = [nb_slices, nb_pixel_y, nb_pixel_x]\n",
    "    pixArray = np.zeros(constPixDim, dtype=np.float32)\n",
    "    \n",
    "    # loop through all the DICOM files\n",
    "    for filenameDCM in listFilesDCM:\n",
    "        dstmp = dcm.read_file(filenameDCM)\n",
    "        try:\n",
    "            rescaleIntercept = ds[0x0028,0x1052].value\n",
    "            rescaleSlope = ds[0x0028,0x1053].value\n",
    "            pixArray[listFilesDCM.index(filenameDCM),:,:] = dstmp.pixel_array.astype(np.float32) * rescaleSlope + rescaleIntercept\n",
    "        except KeyError:\n",
    "            rescaleIntercept = 0\n",
    "            rescaleSlope = 1\n",
    "\n",
    "    return pixArray, constPixDim, ds"
   ]
  },
  {
   "cell_type": "code",
   "execution_count": 78,
   "metadata": {
    "code_folding": [
     0
    ],
    "collapsed": true
   },
   "outputs": [],
   "source": [
    "# READS ONE DICOM FILE FROM MULTIPLE SERIES #\n",
    "\n",
    "\n",
    "def readOneDicomFile(filepath, seriesUID):\n",
    "    \"\"\"\n",
    "    Reads the dicom files and returns an array containing the image\n",
    "    corresponding to the seriesUID given as an argument, the dimension \n",
    "    of the image, and the ref. dicom file to be able to access dicom tags.\n",
    "    Parameters:\n",
    "      filepath - path to the folder containing the dicom files of the image\n",
    "    Return:\n",
    "      pixArray - array containing the image\n",
    "      constPixDim - dimension of the image\n",
    "      ds - reference dicom file\n",
    "    \"\"\"\n",
    "\n",
    "    # Get the file list\n",
    "    listFilesDCM = []  # creates an empty list\n",
    "    for dirName, subdirList, fileList in os.walk(filepath):\n",
    "        for filename in fileList:\n",
    "            if \".dcm\" in filename.lower():  # check whether the file's DICOM\n",
    "                listFilesDCM.append(os.path.join(dirName,filename))\n",
    "\n",
    "    # finds ref. img and load dimensions:\n",
    "    firstSlice = 0\n",
    "    nboffiles = len(listFilesDCM)\n",
    "    dstmp = dcm.read_file(listFilesDCM[firstSlice])\n",
    "    while ((dstmp.SeriesInstanceUID != seriesUID)and(firstSlice<nboffiles-1)):\n",
    "        firstSlice = firstSlice+1\n",
    "        dstmp = dcm.read_file(listFilesDCM[firstSlice])\n",
    "    nb_pixel_x = int(dstmp.Rows)\n",
    "    nb_pixel_y = int(dstmp.Columns)\n",
    "\n",
    "    nb_slices = 0\n",
    "    for i in range(firstSlice,len(listFilesDCM)):\n",
    "        dstmp = dcm.read_file(listFilesDCM[i])\n",
    "        if (dstmp.SeriesInstanceUID == seriesUID):\n",
    "            nb_slices = nb_slices + 1\n",
    "\n",
    "    constPixDim = [nb_slices, nb_pixel_y, nb_pixel_x]\n",
    "    pixArray = np.zeros(constPixDim, dtype=np.float32)\n",
    "    \n",
    "    for i in range(firstSlice, firstSlice+nb_slices):\n",
    "        dstmp = dcm.read_file(listFilesDCM[i])\n",
    "        try:\n",
    "            rescaleIntercept = dstmp[0x0028,0x1052].value\n",
    "            rescaleSlope = dstmp[0x0028,0x1053].value\n",
    "        except KeyError:\n",
    "            rescaleIntercept = 0\n",
    "            rescaleSlope = 1\n",
    "        imgnb = dstmp[0x0020,0x0013].value\n",
    "        pixArray[imgnb-1,:,:] = dstmp.pixel_array.astype(np.float32) * rescaleSlope + rescaleIntercept\n",
    "    \n",
    "    ds = dcm.read_file(listFilesDCM[firstSlice])\n",
    "    \n",
    "    return pixArray, constPixDim, ds"
   ]
  },
  {
   "cell_type": "code",
   "execution_count": 79,
   "metadata": {
    "code_folding": [
     0
    ],
    "collapsed": false
   },
   "outputs": [],
   "source": [
    "# GET RELEVANT INFORMATION FROM DICOM FILE #\n",
    "\n",
    "def getAndPrintRelevantInfo(ds, arrayDim):\n",
    "    \"\"\"\n",
    "    Get relevant information from the dicom image.\n",
    "    Parameters:\n",
    "      ds - dicom image\n",
    "      arrayDim - image dimension\n",
    "    Return:\n",
    "      pixArray - array containing the image\n",
    "      constPixDim - dimension of the image\n",
    "      ds - reference dicom file\n",
    "    \"\"\"\n",
    "\n",
    "    study_date = ds.StudyDate\n",
    "    scan_time = ds[0x0008,0x0032].value\n",
    "    acq_datetime = convertToDatetime(study_date,scan_time)\n",
    "\n",
    "    recons_corrections = ds[0x0028,0x0051].value\n",
    "    frame_duration = ds[0x0018,0x1242].value / 1000 #in ms\n",
    "    phantVol = ds[0x0054,0x0016][0][0x0018,0x1071].value\n",
    "\n",
    "    try:\n",
    "        rescaleIntercept = ds[0x0028,0x1052].value\n",
    "        rescaleSlope = ds[0x0028,0x1053].value\n",
    "    except KeyError:\n",
    "        rescaleIntercept = 0\n",
    "        rescaleSlope = 1\n",
    "\n",
    "    print \"Patient name: \", ds.PatientName\n",
    "    print \"Patient ID: \", ds[0x0020,0x0010].value\n",
    "    print \"File path:\",FILEPATH\n",
    "    print \" \"\n",
    "    print \"Injected Isotope: \", ISOTOPE_NAME, \"(half life:\", T1DEMI,\"h)\"\n",
    "    print \"Radiopharmaceutical: \", ds[0x0054,0x0016][0][0x0018,0x0031].value\n",
    "    print \"Injected activity: \", Ainj, \" MBq @ \", Tinj\n",
    "    print \"Residual activity: \", Ares, \" MBq @ \", Tres\n",
    "    print \"Radionuclide volume\", phantVol, \"mL\"\n",
    "    print \" \"\n",
    "    print \"Scan date and time: \", acq_datetime\n",
    "    print \"Scan duration: \", frame_duration, \"s\"\n",
    "    print \"Image size: {0} x {1} x {2}\" .\\\n",
    "                    format(arrayDim[2], arrayDim[1], arrayDim[0])\n",
    "    print \"Energy window: \", ds[0x0054,0x0013][0][0x0054,0x0014].value, \"to\", ds[0x0054,0x0013][0][0x0054,0x0015].value, \"keV\"\n",
    "    print \"Image units:\", ds[0x0054,0x1001].value\n",
    "    print \"Reconstruction corrections:\", recons_corrections\n",
    "    print \"Scatter correction method:\", ds[0x0054,0x1105].value\n",
    "    print \"Dose calibration factor:\", ds[0x0054,0x1322].value\n",
    "    print \"Scatter fraction factor:\", ds[0x0054,0x1323].value\n",
    "    print \"Dead time factor:\", ds[0x0054,0x1324].value\n",
    "    print \"Rescale slope:\", rescaleSlope\n",
    "    print \"Rescale intercept:\", rescaleIntercept\n",
    "    print \" \"\n",
    "    print \"TEP system: \", ds[0x0008,0x0070].value\n",
    "    print \"            \", ds[0x0008,0x1010].value\n",
    "\n",
    "    return acq_datetime, phantVol"
   ]
  },
  {
   "cell_type": "code",
   "execution_count": 80,
   "metadata": {
    "collapsed": false
   },
   "outputs": [
    {
     "name": "stdout",
     "output_type": "stream",
     "text": [
      "Patient name:  zzzEARL-cal\n",
      "Patient ID:  16147\n",
      "File path: X:/Med Nuc/CQ TEP-CT/CQ SUV/CQ EARL 2017.04.27\n",
      " \n",
      "Injected Isotope:  F18 (half life: 1.8295 h)\n",
      "Radiopharmaceutical:  FDG -- fluorodeoxyglucose\n",
      "Injected activity:  82.5  MBq @  2017-04-27 17:09:00\n",
      "Residual activity:  0.0  MBq @  2017-04-27 17:13:00\n",
      "Radionuclide volume 5640 mL\n",
      " \n",
      "Scan date and time:  2017-04-27 17:43:29\n",
      "Scan duration:  300 s\n",
      "Image size: 256 x 256 x 83\n",
      "Energy window:  425 to 650 keV\n",
      "Image units: BQML\n",
      "Reconstruction corrections: ['DECY', 'ATTN', 'SCAT', 'DTIM', 'RANSNG', 'DCAL', 'SLSENS', 'NORM']\n",
      "Scatter correction method: Model Based\n",
      "Dose calibration factor: 13271\n",
      "Scatter fraction factor: 0.289118\n",
      "Dead time factor: 1.04865\n",
      "Rescale slope: 0.0230401\n",
      "Rescale intercept: 0\n",
      " \n",
      "TEP system:  GE MEDICAL SYSTEMS\n",
      "             D690\n"
     ]
    }
   ],
   "source": [
    "if SERIES_UID == '' :\n",
    "    pixArray, arrayDim, ds = readDicomFiles(FILEPATH)\n",
    "    acqDateTime = getAndPrintRelevantInfo(ds, arrayDim)\n",
    "else:\n",
    "    pixArray, arrayDim, ds = readOneDicomFile(FILEPATH, SERIES_UID)\n",
    "    acqDateTime, phantomVolume = getAndPrintRelevantInfo(ds, arrayDim)"
   ]
  },
  {
   "cell_type": "markdown",
   "metadata": {},
   "source": [
    "# SUV calibration factor"
   ]
  },
  {
   "cell_type": "code",
   "execution_count": 81,
   "metadata": {
    "code_folding": [
     0
    ],
    "collapsed": true
   },
   "outputs": [],
   "source": [
    "# LAYOUT DEFINITIONS #\n",
    "\n",
    "box_layout_std = Layout(display='flex',\n",
    "                    flex_flow='row wrap',\n",
    "                    justify_content='flex-start',\n",
    "                    width='100%')\n",
    "\n",
    "box_layout_right = Layout(display='flex',\n",
    "                    flex_flow='row wrap',\n",
    "                    justify_content='flex-end',\n",
    "                    border='solid 0.5px #EEE',\n",
    "                    width='100%')\n"
   ]
  },
  {
   "cell_type": "code",
   "execution_count": 82,
   "metadata": {
    "code_folding": [
     0
    ],
    "collapsed": true
   },
   "outputs": [],
   "source": [
    "# FINDS THE SUV PHANTOM IN THE IMAGE #\n",
    "\n",
    "# function to find the phantom dimension and center in the image\n",
    "def findPhantom(img, dimx, dimy, dimz, tp):\n",
    "    com = ndimage.measurements.center_of_mass(img)\n",
    "    #com = ndimage.measurements.maximum_position(img)\n",
    "\n",
    "    maxx = ndimage.measurements.maximum(img[com[0],com[1],:])\n",
    "    x1 = 0\n",
    "    while (img[com[0],com[1],x1]<maxx*tp):\n",
    "        x1 = x1+1\n",
    "    x2 = dimx-1\n",
    "    while (img[com[0],com[1],x2]<maxx*tp):\n",
    "        x2 = x2-1\n",
    "    x1=x1-1\n",
    "    x2=x2+1\n",
    "    \n",
    "    maxy = ndimage.measurements.maximum(img[com[0],:,com[2]])\n",
    "    y1 = 0\n",
    "    while (img[com[0],y1,com[2]]<maxy*tp):\n",
    "        y1 = y1+1\n",
    "    y2 = dimy-1\n",
    "    while (img[com[0],y2,com[2]]<maxy*tp):\n",
    "        y2 = y2-1\n",
    "    y1=y1-1\n",
    "    y2=y2+1\n",
    "\n",
    "    maxz = ndimage.measurements.maximum(img[:,com[1],com[2]])\n",
    "    z1 = 0\n",
    "    while (img[z1,com[1],com[2]]<maxz*tp):\n",
    "        z1 = z1+1\n",
    "    z2 = dimz-1\n",
    "    while (img[z2,com[1],com[2]]<maxz*tp):\n",
    "        z2 = z2-1\n",
    "    z1=z1-1\n",
    "    z2=z2+1\n",
    "    \n",
    "    centerx = int(x1+(x2-x1)/2)\n",
    "    centery = int(y1+(y2-y1)/2)\n",
    "    centerz = int(z1+(z2-z1)/2)\n",
    "    \n",
    "    if ((y2-y1)>(x2-1)):\n",
    "        radius =(y2-y1)/2\n",
    "    else:\n",
    "        radius = (x2-x1)/2\n",
    "    length = z2-z1\n",
    "\n",
    "    return [centerx, centery, centerz, radius, length]\n"
   ]
  },
  {
   "cell_type": "code",
   "execution_count": 83,
   "metadata": {
    "code_folding": [
     0
    ],
    "collapsed": false
   },
   "outputs": [],
   "source": [
    "# FUNCTION TO GET THE STATS INSIDE THE VOI #\n",
    "\n",
    "def get_stats(img, dimx, dimy, dimz, centerx, centery, centerz, r, h):\n",
    "    l = []\n",
    "    for k in range(int(centerz-h/2), int(centerz+h/2)):\n",
    "        for j in range(0, dimy):\n",
    "            for i in range(0, dimx):\n",
    "                if (math.sqrt((i-centerx)*(i-centerx)+(j-centery)*(j-centery))<=r):\n",
    "                    l.append(img[k,j,i])\n",
    "                    #m_img[k,j,i] = 0\n",
    "\n",
    "    return np.amin(l), np.amax(l), np.mean(l), np.std(l)"
   ]
  },
  {
   "cell_type": "code",
   "execution_count": 84,
   "metadata": {
    "code_folding": [
     0
    ],
    "collapsed": true
   },
   "outputs": [],
   "source": [
    "# FUNCTION TO DISPLAY CALC RESULTS #\n",
    "    \n",
    "def dispResults(pxls, dim, roi, marge, tacq):\n",
    "    \"\"\"\n",
    "    Disp the results:\n",
    "      pxls - pixel array of the images\n",
    "      dim - dimension of the pixel array (dim[2]:x dim[1]:y dim[0]: nb of images)\n",
    "      roi - ROI where the mean activity is calculated\n",
    "      marge - margin applied to the auto-segmented roi\n",
    "      tacq - acquisition date and time\n",
    "    Return:\n",
    "      Array of calculated values (activity conc. in the phantom, min, max and mean measured activities, std. dev. of \n",
    "          activity inside the phantom)\n",
    "    \"\"\"\n",
    "    mini, maxi, mean, std = get_stats(pxls, dim[2], dim[1], dim[0] ,roi[0], \n",
    "                         roi[1], roi[2], roi[3]+marge, roi[4]+(2*marge))\n",
    "\n",
    "    t = (tacq - Tinj).total_seconds()/3600.0\n",
    "    A = Ainj * math.exp(-t*math.log(2)/T1DEMI)\n",
    "    t = (tacq - Tres).total_seconds()/3600.0\n",
    "    B = Ares * math.exp(-t*math.log(2)/T1DEMI)\n",
    "    Aph = (A-B)/phantomVolume*1000000\n",
    "    error = (mean-Aph)/Aph*100\n",
    "    \n",
    "    print 'Injected activity in the phantom: ', round(Aph,0), 'Bq/ml'\n",
    "    print '   ' \n",
    "    print 'Measured values in the VOI:'\n",
    "    print '  - min. activity: ', round(mini, 2), 'Bq/ml'\n",
    "    print '  - max. activity: ', round(maxi, 2), 'Bq/ml'\n",
    "    print '  - mean activity: ', round(mean, 2), 'Bq/ml'\n",
    "    print '  - std deviation: ', round(std, 2), 'Bq/ml (', round(std/mean*100,2),'%)'\n",
    "    print '   ' \n",
    "    if (abs(error)<10):\n",
    "        print '  >>> Test succeeded! (error', round(error,2), '%)'\n",
    "    else:\n",
    "        print '  >>> Important discrepancies! (error', round(error,2), '%)'\n",
    "        print '  >>> Calibration factor must be verified!'\n",
    "    print '   ' \n",
    "    print '   ' \n",
    "\n",
    "    r = [Aph, mini, maxi, mean, std, error]\n",
    "    \n",
    "    return r\n",
    "    \n"
   ]
  },
  {
   "cell_type": "code",
   "execution_count": 85,
   "metadata": {
    "code_folding": [
     0
    ],
    "collapsed": false
   },
   "outputs": [],
   "source": [
    "# FUNCTION TO WRITE RESULTS IN EXCEL FILE #\n",
    "    \n",
    "def saveToXls(r, tacq):    \n",
    "    \"\"\"\n",
    "    Write results in an excel file\n",
    "      results - array of main results to write to the excel file\n",
    "      tacq - acquisition date and time\n",
    "    Return:\n",
    "      void\n",
    "    \"\"\"\n",
    "    \n",
    "    wb = load_workbook(EXCEL_FILE)\n",
    "    sheet = wb.get_sheet_by_name(EXCEL_SHEET)\n",
    "\n",
    "    maxrow = 5\n",
    "    while (sheet['A'+str(maxrow)].value != None):\n",
    "        maxrow = maxrow+1\n",
    "    \n",
    "    sheet['A'+str(maxrow)] = tacq\n",
    "    sheet['C'+str(maxrow)] = Ainj\n",
    "    sheet['D'+str(maxrow)] = float(r[0])\n",
    "    sheet['F'+str(maxrow)] = float(r[1])\n",
    "    sheet['G'+str(maxrow)] = float(r[2])\n",
    "    sheet['H'+str(maxrow)] = float(r[3])\n",
    "    sheet['I'+str(maxrow)] = float(r[4])\n",
    "    sheet['J'+str(maxrow)] = float(r[4]/r[3]*100)\n",
    "    sheet['L'+str(maxrow)] = float(r[5])\n",
    "\n",
    "    ft = Font(color=colors.RED, bold = True)\n",
    "    if ((r[5]>10)and(r[5]<-10)):\n",
    "        sheet['L'+str(maxrow)].font = ft\n",
    "\n",
    "    wb.save(EXCEL_FILE)\n"
   ]
  },
  {
   "cell_type": "code",
   "execution_count": 86,
   "metadata": {
    "code_folding": [
     0
    ],
    "collapsed": false,
    "scrolled": false
   },
   "outputs": [
    {
     "name": "stdout",
     "output_type": "stream",
     "text": [
      "Injected activity in the phantom:  11765.0 Bq/ml\n",
      "   \n",
      "Measured values in the VOI:\n",
      "  - min. activity:  9629.51 Bq/ml\n",
      "  - max. activity:  12372.49 Bq/ml\n",
      "  - mean activity:  11002.43 Bq/ml\n",
      "  - std deviation:  303.37 Bq/ml ( 2.76 %)\n",
      "   \n",
      "  >>> Test succeeded! (error -6.49 %)\n",
      "   \n",
      "   \n"
     ]
    },
    {
     "data": {
      "image/png": "[encoded data removed]",
      "text/plain": [
       "<matplotlib.figure.Figure at 0x9699a20>"
      ]
     },
     "metadata": {},
     "output_type": "display_data"
    }
   ],
   "source": [
    "# MAIN INTERFACE #\n",
    "\n",
    "# Draws circle centers\n",
    "def redrawCenters():\n",
    "    line1a[0].set_xdata([xslider.value-1,xslider.value+1])\n",
    "    line1a[0].set_ydata([zslider.value,zslider.value])\n",
    "    line1b[0].set_xdata([xslider.value,xslider.value])\n",
    "    line1b[0].set_ydata([zslider.value-1,zslider.value+1])\n",
    "    line2a[0].set_xdata([yslider.value-1,yslider.value+1])\n",
    "    line2a[0].set_ydata([zslider.value,zslider.value])\n",
    "    line2b[0].set_xdata([yslider.value,yslider.value])\n",
    "    line2b[0].set_ydata([zslider.value-1,zslider.value+1])\n",
    "    line3a[0].set_xdata([xslider.value-1,xslider.value+1])\n",
    "    line3a[0].set_ydata([yslider.value,yslider.value])\n",
    "    line3b[0].set_xdata([xslider.value,xslider.value])\n",
    "    line3b[0].set_ydata([yslider.value-1,yslider.value+1])\n",
    "        \n",
    "def refreshPlot(b):    \n",
    "    minv = minslider.value\n",
    "    maxv = maxslider.value\n",
    "    if (minv>maxv):\n",
    "        print \"Erreur: min > max\"\n",
    "    else:\n",
    "        im1.set_data(pixArray[:,yslider.value,:])\n",
    "        im1.set_clim(vmin=minv, vmax=maxv)\n",
    "        im2.set_data(pixArray[:,:,xslider.value])\n",
    "        im2.set_clim(vmin=minv, vmax=maxv)\n",
    "        im3.set_data(pixArray[zslider.value,:,:])\n",
    "        im3.set_clim(vmin=minv, vmax=maxv)\n",
    "    redrawCenters()\n",
    "    display.clear_output(wait=True)\n",
    "    display.display(fig)\n",
    "    results = dispResults(pixArray, arrayDim, roi, ROI_MARGIN, acqDateTime)\n",
    "  \n",
    "def onSaveXlsButtonClicked(b):\n",
    "    saveToXls(results, acq_datetime)\n",
    "\n",
    "\n",
    "# Plot size\n",
    "plt.rcParams['figure.figsize'] = (15,9)\n",
    "\n",
    "# min, max of main image:\n",
    "_min, _max = np.amin(pixArray), np.amax(pixArray)\n",
    "\n",
    "# Ipywidgets:\n",
    "minslider  = FloatSlider(value=_min, min=_min, max=_max, \n",
    "                         step=(_max-_min)/100, description='min', width='40%')\n",
    "maxslider  = FloatSlider(value=_max, min=_min, max=_max*1.5, \n",
    "                         step=(_max-_min)/100, description='max', width='40%')\n",
    "\n",
    "xslider = IntSlider(value=int(arrayDim[2]/2), min=0, max=arrayDim[2]-1, \n",
    "                    step=1, description=\"x\",width='40%')\n",
    "yslider = IntSlider(value=int(arrayDim[1]/2), min=0, max=arrayDim[1]-1, \n",
    "                    step=1, description=\"y\",width='40%')\n",
    "zslider = IntSlider(value=int(arrayDim[0]/2), min=0, max=arrayDim[0]-1, \n",
    "                    step=1, description=\"z\",width='40%')\n",
    "\n",
    "refresh_button = Button(description=\"Refresh!\", width='30%') #, height='100px'\n",
    "refresh_button.on_click(refreshPlot)\n",
    "\n",
    "\n",
    "save_button = Button(description=\"Save to excel file!\", width='25%') #, height='100px'\n",
    "save_button.on_click(onSaveXlsButtonClicked)\n",
    "\n",
    "items1 = [\n",
    "    Label(value=\"Visualization window:\", width='90%'),\n",
    "    minslider,\n",
    "    maxslider,\n",
    "    Label(value=\". \", width='90%'),\n",
    "    Label(value=\"View slices\", width='90%'),\n",
    "    xslider,\n",
    "    yslider,\n",
    "    zslider,\n",
    "    Label(value=\". \", width='90%'),\n",
    " ]\n",
    "items2 = [\n",
    "    refresh_button,\n",
    "    save_button,\n",
    "]\n",
    "\n",
    "box1 = Box(children=items1, layout=box_layout_std)\n",
    "box2 = Box(children=items2, layout=box_layout_right)\n",
    "display.display(box1)\n",
    "display.display(box2)\n",
    "\n",
    "# Plots the images:\n",
    "fig = plt.figure()\n",
    "gs = gridspec.GridSpec(2, 3)\n",
    "\n",
    "ax1 = fig.add_subplot(gs[0,2])\n",
    "im1 = ax1.imshow(pixArray[:,yslider.value,:], cmap=\"hot\", vmin = _min, vmax = _max)\n",
    "ax1.set_title('Coronal')\n",
    "ax1.axes.get_xaxis().set_visible(False)\n",
    "ax1.axes.get_yaxis().set_visible(False)\n",
    "ax1.axes.autoscale(False)\n",
    "\n",
    "ax2 = fig.add_subplot(gs[1,2])\n",
    "im2 = ax2.imshow(pixArray[:,:,xslider.value], cmap=\"hot\", vmin = _min, vmax = _max)\n",
    "ax2.set_title('Sagittal')\n",
    "ax2.axes.get_xaxis().set_visible(False)\n",
    "ax2.axes.get_yaxis().set_visible(False)\n",
    "ax2.axes.autoscale(False)\n",
    "\n",
    "ax3 = fig.add_subplot(gs[:,:-1])\n",
    "im3 = ax3.imshow(pixArray[zslider.value,:,:], cmap=\"hot\", vmin = _min, vmax = _max)\n",
    "ax3.set_title('Transverse')\n",
    "ax3.axes.get_xaxis().set_visible(False)\n",
    "ax3.axes.get_yaxis().set_visible(False)\n",
    "ax3.axes.autoscale(False)\n",
    "\n",
    "roi = findPhantom(pixArray, arrayDim[2], arrayDim[1], arrayDim[0], PHANTOM_THRESHOLD)\n",
    "\n",
    "try:\n",
    "    divider3 = make_axes_locatable(ax3)\n",
    "    cax3 = divider3.append_axes(\"right\", size=\"5%\", pad=0.1)\n",
    "    plt.colorbar(im3, cax=cax3)\n",
    "    line1a = ax1.axes.plot([xslider.value-1,xslider.value+1], \n",
    "                  [zslider.value,zslider.value], \n",
    "                  color='blue', linestyle='-', linewidth=1)\n",
    "    line1b = ax1.axes.plot([xslider.value,xslider.value], \n",
    "                  [zslider.value-1,zslider.value+1], \n",
    "                  color='blue', linestyle='-', linewidth=1)\n",
    "    line2a = ax2.axes.plot([yslider.value-1,yslider.value+1], \n",
    "                  [zslider.value,zslider.value], \n",
    "                  color='blue', linestyle='-', linewidth=1)\n",
    "    line2b = ax2.axes.plot([yslider.value,yslider.value], \n",
    "                  [zslider.value-1,zslider.value+1], \n",
    "                  color='blue', linestyle='-', linewidth=1)\n",
    "    line3a = ax3.axes.plot([xslider.value-1,xslider.value+1], \n",
    "                  [yslider.value,yslider.value], \n",
    "                  color='blue', linestyle='-', linewidth=1)\n",
    "    line3b = ax3.axes.plot([xslider.value,xslider.value], \n",
    "                  [yslider.value-1,yslider.value+1], \n",
    "                  color='blue', linestyle='-', linewidth=1)\n",
    "    c1 = plt.Circle((roi[0], roi[1]), roi[3]+ROI_MARGIN, fill=False, \n",
    "                      color='blue', linewidth=3)\n",
    "    ax3.axes.add_patch(c1)\n",
    "    r1 = plt.Rectangle((roi[0]-roi[3]-ROI_MARGIN, roi[2]-roi[4]/2-ROI_MARGIN), \n",
    "                      (roi[3]+ROI_MARGIN)*2, roi[4]+2*ROI_MARGIN, fill=False, \n",
    "                      color='blue', linewidth=3)\n",
    "    ax1.axes.add_patch(r1)\n",
    "    r2 = plt.Rectangle((roi[1]-roi[3]-ROI_MARGIN, roi[2]-roi[4]/2-ROI_MARGIN), \n",
    "                      (roi[3]+ROI_MARGIN)*2, roi[4]+2*ROI_MARGIN, fill=False, \n",
    "                      color='blue', linewidth=3)\n",
    "    ax2.axes.add_patch(r2)\n",
    "except Error: \n",
    "    print 'Error!'\n",
    "\n",
    "results = dispResults(pixArray, arrayDim, roi, ROI_MARGIN, acqDateTime)\n",
    "\n",
    "\n"
   ]
  },
  {
   "cell_type": "markdown",
   "metadata": {
    "collapsed": true
   },
   "source": [
    "# Remarks:\n",
    "\n"
   ]
  },
  {
   "cell_type": "markdown",
   "metadata": {
    "collapsed": true
   },
   "source": []
  }
 ],
 "metadata": {
  "kernelspec": {
   "display_name": "Python 2",
   "language": "python",
   "name": "python2"
  },
  "language_info": {
   "codemirror_mode": {
    "name": "ipython",
    "version": 2
   },
   "file_extension": ".py",
   "mimetype": "text/x-python",
   "name": "python",
   "nbconvert_exporter": "python",
   "pygments_lexer": "ipython2",
   "version": "2.7.12"
  },
  "widgets": {
   "state": {
    "67c5a36d108a41cc8db7a5c93f959918": {
     "views": [
      {
       "cell_index": 16
      }
     ]
    },
    "84105731ca0e4a518a43148436ed2dfa": {
     "views": [
      {
       "cell_index": 16
      }
     ]
    },
    "8e20545641564496af5048a9c42e634e": {
     "views": [
      {
       "cell_index": 16
      }
     ]
    },
    "8e281ae68cc2452fbb47c62c41998677": {
     "views": [
      {
       "cell_index": 16
      }
     ]
    },
    "969526be9052441ca23ca7ef2f9a550e": {
     "views": [
      {
       "cell_index": 16
      }
     ]
    },
    "b048012204764550a1b68f5027fb3d6f": {
     "views": [
      {
       "cell_index": 16
      }
     ]
    },
    "ddf0408657224b8b9df15c8fea68a3dd": {
     "views": [
      {
       "cell_index": 16
      }
     ]
    },
    "e386f12a487446dda43f3c96db915d4c": {
     "views": [
      {
       "cell_index": 16
      }
     ]
    },
    "ef78925a24344b86a1f232cc2f77a9a4": {
     "views": [
      {
       "cell_index": 16
      }
     ]
    },
    "f177bae7db094396965afe6048e5b1a6": {
     "views": [
      {
       "cell_index": 16
      }
     ]
    }
   },
   "version": "1.2.0"
  }
 },
 "nbformat": 4,
 "nbformat_minor": 0
}
