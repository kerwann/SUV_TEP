{
 "cells": [
  {
   "cell_type": "markdown",
   "metadata": {},
   "source": [
    "\\noindent __Erwann Rault__  \n",
    "_Centre Oscar Lambret (Lille)_"
   ]
  },
  {
   "cell_type": "code",
   "execution_count": 2,
   "metadata": {
    "code_folding": [
     0
    ],
    "collapsed": false
   },
   "outputs": [],
   "source": [
    "# DRAW MATPLOTLIB IN NOTEBOOK #\n",
    "\n",
    "%matplotlib inline\n",
    "# %matplotlib notebook\n"
   ]
  },
  {
   "cell_type": "code",
   "execution_count": 3,
   "metadata": {
    "code_folding": [
     0
    ],
    "collapsed": false
   },
   "outputs": [],
   "source": [
    "# LIBRARIES #\n",
    "\n",
    "import numpy as np\n",
    "import dicom as dcm\n",
    "import matplotlib.pyplot as plt\n",
    "import math\n",
    "import time\n",
    "import datetime\n",
    "\n",
    "from scipy import ndimage\n",
    "from ipywidgets import *\n",
    "\n",
    "from openpyxl import load_workbook\n",
    "from openpyxl.styles import Font, Color, colors\n",
    "\n",
    "from IPython import display\n",
    "from mpl_toolkits.axes_grid1 import make_axes_locatable\n",
    "from matplotlib import gridspec\n",
    "from os.path import basename\n",
    "\n",
    "import warnings\n",
    "warnings.filterwarnings('ignore')\n"
   ]
  },
  {
   "cell_type": "code",
   "execution_count": 28,
   "metadata": {
    "collapsed": false
   },
   "outputs": [],
   "source": [
    "# INPUT VARIABLES #\n",
    "\n",
    "# Dicom files:\n",
    "filepath = 'X:/Med Nuc/CQ TEP-CT/CQ SUV/CQ 2017.03.22/PET AC'\n",
    "\n",
    "# Results written to:\n",
    "EXCEL_FILE ='X:/Med Nuc/CQ TEP-CT/CQ TEP-CT.xlsx'\n",
    "EXCEL_SHEET = 'CQ SUV'\n",
    "\n",
    "# Injected activity:\n",
    "isotopeName = \"F18\"\n",
    "T1demi = 1.8295 # hours, half life from the isotope\n",
    "\n",
    "Ainj = 24.5 #MBq\n",
    "Tinj = datetime.datetime(2017,3,22,16,38)\n",
    "\n",
    "Ares = 0.05 #MBq\n",
    "Tres = datetime.datetime(2017,3,22,16,44)\n",
    "\n",
    "# CSTES #\n",
    "margeROI = -7 #pix\n",
    "thresholdPhantom = 0.7"
   ]
  },
  {
   "cell_type": "code",
   "execution_count": 29,
   "metadata": {
    "code_folding": [
     0
    ],
    "collapsed": false
   },
   "outputs": [],
   "source": [
    "# PARSE ALL DICOM FILES IN THE DIRECTORY #\n",
    "\n",
    "# Get the file list\n",
    "listFilesDCM = []  # creates an empty list\n",
    "for dirName, subdirList, fileList in os.walk(filepath):\n",
    "    for filename in fileList:\n",
    "        if \".dcm\" in filename.lower():  # check whether the file's DICOM\n",
    "            listFilesDCM.append(os.path.join(dirName,filename))\n",
    "            \n",
    "            \n",
    "# essayer avec series instance UID:\n",
    "seriesDescr = ''\n",
    "nbslices = 0\n",
    "nbimgs = 0\n",
    "listImgs = []\n",
    "listmp = []\n",
    "for filenameDCM in listFilesDCM:\n",
    "    ds = dcm.read_file(filenameDCM)\n",
    "    if (seriesDescr != ds[0x0008,0x103E].value):\n",
    "        if (seriesDescr != ''):\n",
    "            listmp.append(nbslices)\n",
    "            listImgs.append(listmp)\n",
    "            listmp = []\n",
    "        nbimgs = nbimgs + 1\n",
    "        seriesDescr = ds[0x0008,0x103E].value\n",
    "        nbslices = 1\n",
    "        listmp.append(seriesDescr)\n",
    "        listmp.append(ds.Rows)\n",
    "        listmp.append(ds.Columns)\n",
    "    else:\n",
    "        nbslices = nbslices + 1\n",
    "listmp.append(nbslices)\n",
    "listImgs.append(listmp)"
   ]
  },
  {
   "cell_type": "code",
   "execution_count": 30,
   "metadata": {
    "code_folding": [
     0
    ],
    "collapsed": false
   },
   "outputs": [],
   "source": [
    "# SERIE TO READ #\n",
    "\n",
    "imgToRead = 1 # nb of the image to read"
   ]
  },
  {
   "cell_type": "markdown",
   "metadata": {},
   "source": [
    "# Acquisition information"
   ]
  },
  {
   "cell_type": "code",
   "execution_count": 31,
   "metadata": {
    "code_folding": [
     0
    ],
    "collapsed": false
   },
   "outputs": [],
   "source": [
    "# READS THE DICOM FILE #\n",
    "\n",
    "# Dimensions:\n",
    "seriesDescr = listImgs[imgToRead-1][0]\n",
    "nb_pixel_x = listImgs[imgToRead-1][1]\n",
    "nb_pixel_y = listImgs[imgToRead-1][2]\n",
    "nb_slices = listImgs[imgToRead-1][3]\n",
    "constPixDim = (nb_slices, nb_pixel_y, nb_pixel_x)\n",
    "pixArray = np.zeros(constPixDim, dtype=np.float32)\n",
    "\n",
    "# loop through all the DICOM files\n",
    "for filenameDCM in listFilesDCM:\n",
    "    dstmp = dcm.read_file(filenameDCM)\n",
    "    if (seriesDescr == dstmp[0x0008,0x103E].value):\n",
    "        try:\n",
    "            rescaleIntercept = dstmp[0x0028,0x1052].value\n",
    "            rescaleSlope = dstmp[0x0028,0x1053].value\n",
    "        except KeyError:\n",
    "            rescaleIntercept = 0\n",
    "            rescaleSlope = 1\n",
    "        pixArray[listFilesDCM.index(filenameDCM),:,:] = dstmp.pixel_array.astype(np.float32) * rescaleSlope + rescaleIntercept\n",
    "\n"
   ]
  },
  {
   "cell_type": "code",
   "execution_count": 32,
   "metadata": {
    "code_folding": [
     0
    ],
    "collapsed": true
   },
   "outputs": [],
   "source": [
    "# CONVERT DICOM TIME INFO TO DATETIME #\n",
    "\n",
    "def convertToDatetime(date, time):\n",
    "    year = int(int(date)/10000)\n",
    "    month = int(int(date)/100-year*100)\n",
    "    day = int(int(date)-year*10000-month*100)\n",
    "    hour = int(float(time)/10000)\n",
    "    minute = int(float(time)/100-hour*100)\n",
    "    seconds =  int(float(time)-minute*100-hour*10000)\n",
    "    return datetime.datetime(year, month, day, hour, minute, seconds)"
   ]
  },
  {
   "cell_type": "code",
   "execution_count": 33,
   "metadata": {
    "code_folding": [
     0
    ],
    "collapsed": false
   },
   "outputs": [
    {
     "name": "stdout",
     "output_type": "stream",
     "text": [
      "Patient name:  zzzEARL_SUV\n",
      "Patient ID:  15397\n",
      "File path: X:/Med Nuc/CQ TEP-CT/CQ SUV/CQ EARL 2017.02.09/TEP AC\n",
      " \n",
      "Injected Isotope:  F18 (half life: 1.8295 h)\n",
      "Radiopharmaceutical:  FDG -- fluorodeoxyglucose\n",
      "Injected activity:  70.1  MBq @  2017-02-07 16:46:00\n",
      "Residual activity:  0.0  MBq @  2017-02-07 16:49:00\n",
      "Radionuclide volume 5680 mL\n",
      " \n",
      "Scan date and time:  2017-02-07 17:07:14\n",
      "Scan duration:  300 s\n",
      "Image size: 256 x 256 x 83\n",
      "Energy window:  425 to 650 keV\n",
      "Image units: BQML\n",
      "Reconstruction corrections: ['DECY', 'ATTN', 'SCAT', 'DTIM', 'RANSNG', 'DCAL', 'SLSENS', 'NORM']\n",
      "Scatter correction method: Model Based\n",
      "Dose calibration factor: 13074\n",
      "Scatter fraction factor: 0.294799\n",
      "Dead time factor: 1.04461\n",
      "Rescale slope: 0.00882617\n",
      "Rescale intercept: 0\n",
      " \n",
      "TEP system:  GE MEDICAL SYSTEMS\n",
      "             D690\n"
     ]
    }
   ],
   "source": [
    "# GET RELEVANT INFORMATION FROM DICOM FILE #\n",
    "\n",
    "patient_name = ds.PatientName\n",
    "\n",
    "study_date = ds.StudyDate\n",
    "scan_time = ds[0x0008,0x0032].value\n",
    "acq_datetime = convertToDatetime(study_date,scan_time)\n",
    "\n",
    "recons_corrections = ds[0x0028,0x0051].value\n",
    "frame_duration = ds[0x0018,0x1242].value / 1000 #in ms\n",
    "phantomVolume = ds[0x0054,0x0016][0][0x0018,0x1071].value\n",
    "\n",
    "print \"Patient name: \", patient_name\n",
    "print \"Patient ID: \", ds[0x0020,0x0010].value\n",
    "print \"File path:\", filepath\n",
    "print \" \"\n",
    "print \"Injected Isotope: \", isotopeName, \"(half life:\", T1demi,\"h)\"\n",
    "print \"Radiopharmaceutical: \", ds[0x0054,0x0016][0][0x0018,0x0031].value\n",
    "print \"Injected activity: \", Ainj, \" MBq @ \", Tinj\n",
    "print \"Residual activity: \", Ares, \" MBq @ \", Tres\n",
    "print \"Radionuclide volume\", phantomVolume, \"mL\"\n",
    "print \" \"\n",
    "print \"Scan date and time: \", acq_datetime\n",
    "print \"Scan duration: \", frame_duration, \"s\"\n",
    "print \"Image size: {0} x {1} x {2}\" .\\\n",
    "                format(constPixDim[2], constPixDim[1], constPixDim[0])\n",
    "print \"Energy window: \", ds[0x0054,0x0013][0][0x0054,0x0014].value, \"to\", ds[0x0054,0x0013][0][0x0054,0x0015].value, \"keV\"\n",
    "print \"Image units:\", ds[0x0054,0x1001].value\n",
    "print \"Reconstruction corrections:\", recons_corrections\n",
    "print \"Scatter correction method:\", ds[0x0054,0x1105].value\n",
    "print \"Dose calibration factor:\", ds[0x0054,0x1322].value\n",
    "print \"Scatter fraction factor:\", ds[0x0054,0x1323].value\n",
    "print \"Dead time factor:\", ds[0x0054,0x1324].value\n",
    "print \"Rescale slope:\", rescaleSlope\n",
    "print \"Rescale intercept:\", rescaleIntercept\n",
    "print \" \"\n",
    "print \"TEP system: \", ds[0x0008,0x0070].value\n",
    "print \"            \", ds[0x0008,0x1010].value\n"
   ]
  },
  {
   "cell_type": "markdown",
   "metadata": {},
   "source": [
    "# SUV calibration factor"
   ]
  },
  {
   "cell_type": "code",
   "execution_count": 34,
   "metadata": {
    "code_folding": [
     0
    ],
    "collapsed": true
   },
   "outputs": [],
   "source": [
    "# LAYOUT DEFINITIONS #\n",
    "\n",
    "box_layout_std = Layout(display='flex',\n",
    "                    flex_flow='row wrap',\n",
    "                    justify_content='flex-start',\n",
    "                    width='100%')\n",
    "\n",
    "box_layout_right = Layout(display='flex',\n",
    "                    flex_flow='row wrap',\n",
    "                    justify_content='flex-end',\n",
    "                    border='solid 0.5px #EEE',\n",
    "                    width='100%')\n"
   ]
  },
  {
   "cell_type": "code",
   "execution_count": 35,
   "metadata": {
    "code_folding": [
     0
    ],
    "collapsed": true
   },
   "outputs": [],
   "source": [
    "# FINDS THE SUV PHANTOM IN THE IMAGE #\n",
    "\n",
    "# function to find the phantom dimension and center in the image\n",
    "def findPhantom(img, dimx, dimy, dimz, tp):\n",
    "    com = ndimage.measurements.center_of_mass(img)\n",
    "    #com = ndimage.measurements.maximum_position(img)\n",
    "\n",
    "    maxx = ndimage.measurements.maximum(img[com[0],com[1],:])\n",
    "    x1 = 0\n",
    "    while (img[com[0],com[1],x1]<maxx*tp):\n",
    "        x1 = x1+1\n",
    "    x2 = dimx-1\n",
    "    while (img[com[0],com[1],x2]<maxx*tp):\n",
    "        x2 = x2-1\n",
    "    x1=x1-1\n",
    "    x2=x2+1\n",
    "    \n",
    "    maxy = ndimage.measurements.maximum(img[com[0],:,com[2]])\n",
    "    y1 = 0\n",
    "    while (img[com[0],y1,com[2]]<maxy*tp):\n",
    "        y1 = y1+1\n",
    "    y2 = dimy-1\n",
    "    while (img[com[0],y2,com[2]]<maxy*tp):\n",
    "        y2 = y2-1\n",
    "    y1=y1-1\n",
    "    y2=y2+1\n",
    "\n",
    "    maxz = ndimage.measurements.maximum(img[:,com[1],com[2]])\n",
    "    z1 = 0\n",
    "    while (img[z1,com[1],com[2]]<maxz*tp):\n",
    "        z1 = z1+1\n",
    "    z2 = dimz-1\n",
    "    while (img[z2,com[1],com[2]]<maxz*tp):\n",
    "        z2 = z2-1\n",
    "    z1=z1-1\n",
    "    z2=z2+1\n",
    "    \n",
    "    centerx = int(x1+(x2-x1)/2)\n",
    "    centery = int(y1+(y2-y1)/2)\n",
    "    centerz = int(z1+(z2-z1)/2)\n",
    "    \n",
    "    if ((y2-y1)>(x2-1)):\n",
    "        radius =(y2-y1)/2\n",
    "    else:\n",
    "        radius = (x2-x1)/2\n",
    "    length = z2-z1\n",
    "\n",
    "    return [centerx, centery, centerz, radius, length]\n"
   ]
  },
  {
   "cell_type": "code",
   "execution_count": 36,
   "metadata": {
    "code_folding": [
     0
    ],
    "collapsed": false
   },
   "outputs": [],
   "source": [
    "# FUNCTION TO GET THE STATS INSIDE THE VOI #\n",
    "\n",
    "def get_stats(img, dimx, dimy, dimz, centerx, centery, centerz, r, h):\n",
    "    l = []\n",
    "    for k in range(int(centerz-h/2), int(centerz+h/2)):\n",
    "        for j in range(0, dimy):\n",
    "            for i in range(0, dimx):\n",
    "                if (math.sqrt((i-centerx)*(i-centerx)+(j-centery)*(j-centery))<=r):\n",
    "                    l.append(img[k,j,i])\n",
    "                    #m_img[k,j,i] = 0\n",
    "\n",
    "    return np.amin(l), np.amax(l), np.mean(l), np.std(l)"
   ]
  },
  {
   "cell_type": "code",
   "execution_count": 37,
   "metadata": {
    "code_folding": [
     0
    ],
    "collapsed": true
   },
   "outputs": [],
   "source": [
    "# FUNCTION TO DISPLAY CALC RESULTS #\n",
    "    \n",
    "def dispResults(pxls, dim, roi, marge, tacq):\n",
    "    \"\"\"\n",
    "    Disp the results:\n",
    "      pxls - pixel array of the images\n",
    "      dim - dimension of the pixel array (dim[2]:x dim[1]:y dim[0]: nb of images)\n",
    "      roi - ROI where the mean activity is calculated\n",
    "      marge - margin applied to the auto-segmented roi\n",
    "      tacq - acquisition date and time\n",
    "    Return:\n",
    "      Array of calculated values (activity conc. in the phantom, min, max and mean measured activities, std. dev. of \n",
    "          activity inside the phantom)\n",
    "    \"\"\"\n",
    "    mini, maxi, mean, std = get_stats(pxls, dim[2], dim[1], dim[0] ,roi[0], \n",
    "                         roi[1], roi[2], roi[3]+marge, roi[4]+(2*marge))\n",
    "\n",
    "    t = (tacq - Tinj).total_seconds()/3600.0\n",
    "    A = Ainj * math.exp(-t*math.log(2)/T1demi)\n",
    "    t = (tacq - Tres).total_seconds()/3600.0\n",
    "    B = Ares * math.exp(-t*math.log(2)/T1demi)\n",
    "    Aph = (A-B)/phantomVolume*1000000\n",
    "    error = (mean-Aph)/Aph*100\n",
    "    \n",
    "    print 'Injected activity in the phantom: ', round(Aph,0), 'Bq/ml'\n",
    "    print '   ' \n",
    "    print 'Measured values in the VOI:'\n",
    "    print '  - min. activity: ', round(mini, 2), 'Bq/ml'\n",
    "    print '  - max. activity: ', round(maxi, 2), 'Bq/ml'\n",
    "    print '  - mean activity: ', round(mean, 2), 'Bq/ml'\n",
    "    print '  - std deviation: ', round(std, 2), 'Bq/ml (', round(std/mean*100,2),'%)'\n",
    "    print '   ' \n",
    "    if (abs(error)<10):\n",
    "        print '  >>> Test succeeded! (error', round(error,2), '%)'\n",
    "    else:\n",
    "        print '  >>> Important discrepancies! (error', round(error,2), '%)'\n",
    "        print '  >>> Calibration factor must be verified!'\n",
    "    print '   ' \n",
    "    print '   ' \n",
    "\n",
    "    r = [Aph, mini, maxi, mean, std, error]\n",
    "    \n",
    "    return r\n",
    "    \n"
   ]
  },
  {
   "cell_type": "code",
   "execution_count": 38,
   "metadata": {
    "code_folding": [
     0
    ],
    "collapsed": false
   },
   "outputs": [],
   "source": [
    "# FUNCTION TO WRITE RESULTS IN EXCEL FILE #\n",
    "    \n",
    "def saveToXls(r, tacq):    \n",
    "    \"\"\"\n",
    "    Write results in an excel file\n",
    "      results - array of main results to write to the excel file\n",
    "      tacq - acquisition date and time\n",
    "    Return:\n",
    "      void\n",
    "    \"\"\"\n",
    "    \n",
    "    wb = load_workbook(EXCEL_FILE)\n",
    "    sheet = wb.get_sheet_by_name(EXCEL_SHEET)\n",
    "\n",
    "    maxrow = 5\n",
    "    while (sheet['A'+str(maxrow)].value != None):\n",
    "        maxrow = maxrow+1\n",
    "    \n",
    "    sheet['A'+str(maxrow)] = tacq\n",
    "    sheet['C'+str(maxrow)] = Ainj\n",
    "    sheet['D'+str(maxrow)] = float(r[0])\n",
    "    sheet['F'+str(maxrow)] = float(r[1])\n",
    "    sheet['G'+str(maxrow)] = float(r[2])\n",
    "    sheet['H'+str(maxrow)] = float(r[3])\n",
    "    sheet['I'+str(maxrow)] = float(r[4])\n",
    "    sheet['J'+str(maxrow)] = float(r[4]/r[3]*100)\n",
    "    sheet['L'+str(maxrow)] = float(r[5])\n",
    "\n",
    "    ft = Font(color=colors.RED, bold = True)\n",
    "    if ((r[5]>10)and(r[5]<-10)):\n",
    "        sheet['L'+str(maxrow)].font = ft\n",
    "\n",
    "    wb.save(EXCEL_FILE)\n"
   ]
  },
  {
   "cell_type": "code",
   "execution_count": 39,
   "metadata": {
    "code_folding": [
     0
    ],
    "collapsed": false,
    "scrolled": false
   },
   "outputs": [
    {
     "name": "stdout",
     "output_type": "stream",
     "text": [
      "Injected activity in the phantom:  10793.0 Bq/ml\n",
      "   \n",
      "Measured values in the VOI:\n",
      "  - min. activity:  8856.07 Bq/ml\n",
      "  - max. activity:  11269.72 Bq/ml\n",
      "  - mean activity:  10053.72 Bq/ml\n",
      "  - std deviation:  285.89 Bq/ml ( 2.84 %)\n",
      "   \n",
      "  >>> Test succeeded! (error -6.85 %)\n",
      "   \n",
      "   \n"
     ]
    },
    {
     "data": {
      "image/png": "[encoded data removed]",
      "text/plain": [
       "<matplotlib.figure.Figure at 0xbc10ba8>"
      ]
     },
     "metadata": {},
     "output_type": "display_data"
    }
   ],
   "source": [
    "# MAIN INTERFACE #\n",
    "\n",
    "# Draws circle centers\n",
    "def redrawCenters():\n",
    "    line1a[0].set_xdata([xslider.value-1,xslider.value+1])\n",
    "    line1a[0].set_ydata([zslider.value,zslider.value])\n",
    "    line1b[0].set_xdata([xslider.value,xslider.value])\n",
    "    line1b[0].set_ydata([zslider.value-1,zslider.value+1])\n",
    "    line2a[0].set_xdata([yslider.value-1,yslider.value+1])\n",
    "    line2a[0].set_ydata([zslider.value,zslider.value])\n",
    "    line2b[0].set_xdata([yslider.value,yslider.value])\n",
    "    line2b[0].set_ydata([zslider.value-1,zslider.value+1])\n",
    "    line3a[0].set_xdata([xslider.value-1,xslider.value+1])\n",
    "    line3a[0].set_ydata([yslider.value,yslider.value])\n",
    "    line3b[0].set_xdata([xslider.value,xslider.value])\n",
    "    line3b[0].set_ydata([yslider.value-1,yslider.value+1])\n",
    "        \n",
    "def refreshPlot(b):    \n",
    "    minv = minslider.value\n",
    "    maxv = maxslider.value\n",
    "    if (minv>maxv):\n",
    "        print \"Erreur: min > max\"\n",
    "    else:\n",
    "        im1.set_data(pixArray[:,yslider.value,:])\n",
    "        im1.set_clim(vmin=minv, vmax=maxv)\n",
    "        im2.set_data(pixArray[:,:,xslider.value])\n",
    "        im2.set_clim(vmin=minv, vmax=maxv)\n",
    "        im3.set_data(pixArray[zslider.value,:,:])\n",
    "        im3.set_clim(vmin=minv, vmax=maxv)\n",
    "    redrawCenters()\n",
    "    display.clear_output(wait=True)\n",
    "    display.display(fig)\n",
    "    results = dispResults(pixArray, dim, roi, margeROI, acq_datetime)\n",
    "  \n",
    "def onSaveXlsButtonClicked(b):\n",
    "    saveToXls(results, acq_datetime)\n",
    "\n",
    "\n",
    "# Plot size\n",
    "plt.rcParams['figure.figsize'] = (15,9)\n",
    "\n",
    "# min, max of main image:\n",
    "_min, _max = np.amin(pixArray), np.amax(pixArray)\n",
    "\n",
    "# Ipywidgets:\n",
    "minslider  = FloatSlider(value=_min, min=_min, max=_max, \n",
    "                         step=(_max-_min)/100, description='min', width='40%')\n",
    "maxslider  = FloatSlider(value=_max, min=_min, max=_max*1.5, \n",
    "                         step=(_max-_min)/100, description='max', width='40%')\n",
    "\n",
    "xslider = IntSlider(value=int(nb_pixel_x/2), min=0, max=nb_pixel_x-1, \n",
    "                    step=1, description=\"x\",width='40%')\n",
    "yslider = IntSlider(value=int(nb_pixel_y/2), min=0, max=nb_pixel_y-1, \n",
    "                    step=1, description=\"y\",width='40%')\n",
    "zslider = IntSlider(value=int(nb_slices/2), min=0, max=nb_slices-1, \n",
    "                    step=1, description=\"z\",width='40%')\n",
    "\n",
    "refresh_button = Button(description=\"Refresh!\", width='30%') #, height='100px'\n",
    "refresh_button.on_click(refreshPlot)\n",
    "\n",
    "\n",
    "save_button = Button(description=\"Save to excel file!\", width='25%') #, height='100px'\n",
    "save_button.on_click(onSaveXlsButtonClicked)\n",
    "\n",
    "items1 = [\n",
    "    Label(value=\"Visualization window:\", width='90%'),\n",
    "    minslider,\n",
    "    maxslider,\n",
    "    Label(value=\". \", width='90%'),\n",
    "    Label(value=\"View slices\", width='90%'),\n",
    "    xslider,\n",
    "    yslider,\n",
    "    zslider,\n",
    "    Label(value=\". \", width='90%'),\n",
    " ]\n",
    "items2 = [\n",
    "    refresh_button,\n",
    "    save_button,\n",
    "]\n",
    "\n",
    "box1 = Box(children=items1, layout=box_layout_std)\n",
    "box2 = Box(children=items2, layout=box_layout_right)\n",
    "display.display(box1)\n",
    "display.display(box2)\n",
    "\n",
    "# Plots the images:\n",
    "fig = plt.figure()\n",
    "gs = gridspec.GridSpec(2, 3)\n",
    "\n",
    "ax1 = fig.add_subplot(gs[0,2])\n",
    "im1 = ax1.imshow(pixArray[:,yslider.value,:], cmap=\"hot\", vmin = _min, vmax = _max)\n",
    "ax1.set_title('Coronal')\n",
    "ax1.axes.get_xaxis().set_visible(False)\n",
    "ax1.axes.get_yaxis().set_visible(False)\n",
    "ax1.axes.autoscale(False)\n",
    "\n",
    "ax2 = fig.add_subplot(gs[1,2])\n",
    "im2 = ax2.imshow(pixArray[:,:,xslider.value], cmap=\"hot\", vmin = _min, vmax = _max)\n",
    "ax2.set_title('Sagittal')\n",
    "ax2.axes.get_xaxis().set_visible(False)\n",
    "ax2.axes.get_yaxis().set_visible(False)\n",
    "ax2.axes.autoscale(False)\n",
    "\n",
    "ax3 = fig.add_subplot(gs[:,:-1])\n",
    "im3 = ax3.imshow(pixArray[zslider.value,:,:], cmap=\"hot\", vmin = _min, vmax = _max)\n",
    "ax3.set_title('Transverse')\n",
    "ax3.axes.get_xaxis().set_visible(False)\n",
    "ax3.axes.get_yaxis().set_visible(False)\n",
    "ax3.axes.autoscale(False)\n",
    "\n",
    "roi = findPhantom(pixArray, nb_pixel_x, nb_pixel_y, nb_slices, thresholdPhantom)\n",
    "\n",
    "try:\n",
    "    divider3 = make_axes_locatable(ax3)\n",
    "    cax3 = divider3.append_axes(\"right\", size=\"5%\", pad=0.1)\n",
    "    plt.colorbar(im3, cax=cax3)\n",
    "    line1a = ax1.axes.plot([xslider.value-1,xslider.value+1], \n",
    "                  [zslider.value,zslider.value], \n",
    "                  color='blue', linestyle='-', linewidth=1)\n",
    "    line1b = ax1.axes.plot([xslider.value,xslider.value], \n",
    "                  [zslider.value-1,zslider.value+1], \n",
    "                  color='blue', linestyle='-', linewidth=1)\n",
    "    line2a = ax2.axes.plot([yslider.value-1,yslider.value+1], \n",
    "                  [zslider.value,zslider.value], \n",
    "                  color='blue', linestyle='-', linewidth=1)\n",
    "    line2b = ax2.axes.plot([yslider.value,yslider.value], \n",
    "                  [zslider.value-1,zslider.value+1], \n",
    "                  color='blue', linestyle='-', linewidth=1)\n",
    "    line3a = ax3.axes.plot([xslider.value-1,xslider.value+1], \n",
    "                  [yslider.value,yslider.value], \n",
    "                  color='blue', linestyle='-', linewidth=1)\n",
    "    line3b = ax3.axes.plot([xslider.value,xslider.value], \n",
    "                  [yslider.value-1,yslider.value+1], \n",
    "                  color='blue', linestyle='-', linewidth=1)\n",
    "    c1 = plt.Circle((roi[0], roi[1]), roi[3]+margeROI, fill=False, \n",
    "                      color='blue', linewidth=3)\n",
    "    ax3.axes.add_patch(c1)\n",
    "    r1 = plt.Rectangle((roi[0]-roi[3]-margeROI, roi[2]-roi[4]/2-margeROI), \n",
    "                      (roi[3]+margeROI)*2, roi[4]+2*margeROI, fill=False, \n",
    "                      color='blue', linewidth=3)\n",
    "    ax1.axes.add_patch(r1)\n",
    "    r2 = plt.Rectangle((roi[1]-roi[3]-margeROI, roi[2]-roi[4]/2-margeROI), \n",
    "                      (roi[3]+margeROI)*2, roi[4]+2*margeROI, fill=False, \n",
    "                      color='blue', linewidth=3)\n",
    "    ax2.axes.add_patch(r2)\n",
    "except Error: \n",
    "    print 'Error!'\n",
    "\n",
    "dim = [nb_slices ,nb_pixel_y, nb_pixel_x]\n",
    "results = dispResults(pixArray, dim, roi, margeROI, acq_datetime)\n",
    "\n",
    "\n"
   ]
  },
  {
   "cell_type": "markdown",
   "metadata": {
    "collapsed": true
   },
   "source": [
    "# Remarks:\n",
    "\n"
   ]
  },
  {
   "cell_type": "markdown",
   "metadata": {
    "collapsed": true
   },
   "source": []
  }
 ],
 "metadata": {
  "kernelspec": {
   "display_name": "Python 2",
   "language": "python",
   "name": "python2"
  },
  "language_info": {
   "codemirror_mode": {
    "name": "ipython",
    "version": 2
   },
   "file_extension": ".py",
   "mimetype": "text/x-python",
   "name": "python",
   "nbconvert_exporter": "python",
   "pygments_lexer": "ipython2",
   "version": "2.7.12"
  },
  "widgets": {
   "state": {
    "402c89e7372c4dacb68c1ae794e564a5": {
     "views": [
      {
       "cell_index": 16
      }
     ]
    },
    "48b5a522c5df4cceb32814f0108a6a03": {
     "views": [
      {
       "cell_index": 16
      }
     ]
    },
    "7cc9825ad11543ad8f2bd720d9c9d81b": {
     "views": [
      {
       "cell_index": 16
      }
     ]
    },
    "d8a6f2b072b0426a93ad664661e46af3": {
     "views": [
      {
       "cell_index": 16
      }
     ]
    }
   },
   "version": "1.2.0"
  }
 },
 "nbformat": 4,
 "nbformat_minor": 0
}
