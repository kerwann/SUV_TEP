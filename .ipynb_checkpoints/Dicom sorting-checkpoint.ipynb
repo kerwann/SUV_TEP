{
 "cells": [
  {
   "cell_type": "markdown",
   "metadata": {},
   "source": [
    "\\noindent __Erwann Rault__  \n",
    "_Centre Oscar Lambret (Lille)_"
   ]
  },
  {
   "cell_type": "code",
   "execution_count": 1,
   "metadata": {
    "code_folding": [
     0
    ],
    "collapsed": false
   },
   "outputs": [],
   "source": [
    "# DRAW MATPLOTLIB IN NOTEBOOK #\n",
    "\n",
    "%matplotlib inline\n",
    "# %matplotlib notebook\n"
   ]
  },
  {
   "cell_type": "code",
   "execution_count": 2,
   "metadata": {
    "code_folding": [
     0
    ],
    "collapsed": false
   },
   "outputs": [],
   "source": [
    "# LIBRARIES #\n",
    "\n",
    "import numpy as np\n",
    "import dicom as dcm\n",
    "import matplotlib.pyplot as plt\n",
    "import math\n",
    "import time\n",
    "import datetime\n",
    "\n",
    "from scipy import ndimage\n",
    "from ipywidgets import *\n",
    "\n",
    "from IPython import display\n",
    "from mpl_toolkits.axes_grid1 import make_axes_locatable\n",
    "from matplotlib import gridspec\n",
    "from os.path import basename\n",
    "\n",
    "import warnings\n",
    "warnings.filterwarnings('ignore')\n"
   ]
  },
  {
   "cell_type": "code",
   "execution_count": 3,
   "metadata": {
    "code_folding": [],
    "collapsed": false
   },
   "outputs": [],
   "source": [
    "# INPUT VARIABLES #\n",
    "\n",
    "filepath = 'X:/Med Nuc/CQ TEP-CT/CQ CT/CQI 2012.02.07'"
   ]
  },
  {
   "cell_type": "markdown",
   "metadata": {},
   "source": [
    "# Acquisition information"
   ]
  },
  {
   "cell_type": "code",
   "execution_count": 12,
   "metadata": {
    "code_folding": [],
    "collapsed": false
   },
   "outputs": [
    {
     "name": "stdout",
     "output_type": "stream",
     "text": [
      "Image no 1 : Dose Record\n",
      "  > study UID : 1.2.840.113619.2.290.3.346820099.327.1328597786.339\n",
      "  > series UID : 1.2.840.113619.2.290.3.346820099.327.1328597786.391\n",
      "  > nb slices: 1\n",
      " \n",
      "Image no 2 : \n",
      "  > study UID : 1.2.840.113619.2.290.3.346820099.327.1328597786.339\n",
      "  > series UID : 1.2.840.113619.2.290.3.346820099.327.1328597786.367\n",
      "  > nb pix x : 512\n",
      "  > nb pix y : 512\n",
      "  > nb slices: 4\n",
      " \n",
      "Image no 3 : Centrer sur laser EXTERNE\n",
      "  > study UID : 1.2.840.113619.2.290.3.346820099.327.1328597786.339\n",
      "  > series UID : 1.2.840.113619.2.290.3.346820099.327.1328597786.372\n",
      "  > nb pix x : 512\n",
      "  > nb pix y : 512\n",
      "  > nb slices: 16\n",
      " \n",
      "Image no 4 : Rapport dose.\n",
      "  > study UID : 1.2.840.113619.2.290.3.346820099.327.1328597786.339\n",
      "  > series UID : 1.2.840.113619.2.290.3.346820099.327.1328597786.389\n",
      "  > nb pix x : 512\n",
      "  > nb pix y : 512\n",
      "  > nb slices: 1\n",
      " \n",
      "Image no 5 : Centrer sur laser INTERNE\n",
      "  > study UID : 1.2.840.113619.2.290.3.346820099.327.1328597786.339\n",
      "  > series UID : 1.2.840.113619.2.290.3.346820099.327.1328597786.350\n",
      "  > nb pix x : 512\n",
      "  > nb pix y : 512\n",
      "  > nb slices: 16\n",
      " \n",
      "Image no 6 : \n",
      "  > study UID : 1.2.840.113619.2.290.3.346820099.327.1328597786.339\n",
      "  > series UID : 1.2.840.113619.2.290.3.346820099.327.1328597786.345\n",
      "  > nb pix x : 512\n",
      "  > nb pix y : 512\n",
      "  > nb slices: 4\n",
      " \n",
      "Image no 7 : \n",
      "  > study UID : 1.2.840.113619.2.290.3.346820099.327.1328597786.339\n",
      "  > series UID : 1.2.840.113619.2.290.3.346820099.327.1328597786.342\n",
      "  > nb pix x : 512\n",
      "  > nb pix y : 512\n",
      "  > nb slices: 2\n"
     ]
    }
   ],
   "source": [
    "# PARSE ALL DICOM FILES IN THE DIRECTORY #\n",
    "\n",
    "# Get the file list\n",
    "listFilesDCM = []  # creates an empty list\n",
    "for dirName, subdirList, fileList in os.walk(filepath):\n",
    "    for filename in fileList:\n",
    "        if \".dcm\" in filename.lower():  # check whether the file's DICOM\n",
    "            listFilesDCM.append(os.path.join(dirName,filename))\n",
    "            \n",
    "            \n",
    "# essayer avec series instance UID:\n",
    "seriesDescr = 'beginning_prgm'\n",
    "seriesUID = ''\n",
    "nbslices = 0\n",
    "nbimgs = 0\n",
    "listImgs = []\n",
    "listmp = []\n",
    "for filenameDCM in listFilesDCM:\n",
    "    ds = dcm.read_file(filenameDCM)\n",
    "    if (seriesUID != ds.SeriesInstanceUID):\n",
    "        if (seriesUID != ''):\n",
    "            print '  > nb slices:', nbslices\n",
    "            print ' '\n",
    "            listmp.append(nbslices)\n",
    "            listImgs.append(listmp)\n",
    "            listmp = []\n",
    "        nbimgs = nbimgs + 1\n",
    "        seriesDescr = ds[0x0008,0x103E].value\n",
    "        seriesUID = ds.SeriesInstanceUID\n",
    "        nbslices = 1\n",
    "        if (seriesDescr != 'Dose Record'):\n",
    "            print 'Image no', nbimgs, ':', seriesDescr\n",
    "            print '  > study UID :',  ds.StudyInstanceUID \n",
    "            print '  > series UID :', seriesUID\n",
    "            print '  > nb pix x :', ds.Rows\n",
    "            print '  > nb pix y :', ds.Columns\n",
    "            listmp.append(seriesDescr)\n",
    "            listmp.append(ds.Rows)\n",
    "            listmp.append(ds.Columns)\n",
    "        else:\n",
    "            print 'Image no', nbimgs, ':', seriesDescr\n",
    "            print '  > study UID :',  ds.StudyInstanceUID \n",
    "            print '  > series UID :', seriesUID\n",
    "            listmp.append(seriesDescr)\n",
    "            listmp.append(-1)\n",
    "            listmp.append(-1)\n",
    "    else:\n",
    "        nbslices = nbslices + 1\n",
    "print '  > nb slices:', nbslices\n",
    "listmp.append(nbslices)\n",
    "listImgs.append(listmp)\n"
   ]
  },
  {
   "cell_type": "code",
   "execution_count": 13,
   "metadata": {
    "code_folding": [],
    "collapsed": false
   },
   "outputs": [],
   "source": [
    "# READS THE DICOM FILE #\n",
    "\n",
    "\n",
    "def readDicomFile(filepath, seriesUID):\n",
    "    \"\"\"\n",
    "    Reads the dicom files and returns an array containing the image\n",
    "    corresponding to the seriesUID given as an argument, the dimension \n",
    "    of the image, and the ref. dicom file to be able to access dicom tags.\n",
    "    Parameters:\n",
    "      filepath - path to the folder containing the dicom files of the image\n",
    "    Return:\n",
    "      pixArray - array containing the image\n",
    "      constPixDim - dimension of the image\n",
    "      ds - reference dicom file\n",
    "    \"\"\"\n",
    "\n",
    "    # Get the file list\n",
    "    listFilesDCM = []  # creates an empty list\n",
    "    for dirName, subdirList, fileList in os.walk(filepath):\n",
    "        for filename in fileList:\n",
    "            if \".dcm\" in filename.lower():  # check whether the file's DICOM\n",
    "                listFilesDCM.append(os.path.join(dirName,filename))\n",
    "\n",
    "    # finds ref. img and load dimensions:\n",
    "    firstSlice = 0\n",
    "    nboffiles = len(listFilesDCM)\n",
    "    dstmp = dcm.read_file(listFilesDCM[firstSlice])\n",
    "    while ((dstmp.SeriesInstanceUID != seriesUID)or(firstSlice>=nboffiles-1)):\n",
    "        firstSlice = firstSlice+1\n",
    "        dstmp = dcm.read_file(listFilesDCM[firstSlice+1])\n",
    "    nb_pixel_x = int(dstmp.Rows)\n",
    "    nb_pixel_y = int(dstmp.Columns)\n",
    "\n",
    "    nb_slices = 0\n",
    "    for i in range(firstSlice,len(listFilesDCM)):\n",
    "        dstmp = dcm.read_file(listFilesDCM[i])\n",
    "        if (dstmp.SeriesInstanceUID == seriesUID):\n",
    "            nb_slices = nb_slices + 1\n",
    "    \n",
    "    constPixDim = [nb_slices, nb_pixel_y, nb_pixel_x]\n",
    "    pixArray = np.zeros(constPixDim, dtype=np.float32)\n",
    "    \n",
    "    for i in range(firstSlice, firstSlice+nb_slices-1):\n",
    "        dstmp = dcm.read_file(listFilesDCM[i])\n",
    "        try:\n",
    "            rescaleIntercept = ds[0x0028,0x1052].value\n",
    "            rescaleSlope = ds[0x0028,0x1053].value\n",
    "        except KeyError:\n",
    "            rescaleIntercept = 0\n",
    "            rescaleSlope = 1\n",
    "        pixArray[listFilesDCM.index(filenameDCM),:,:] = dstmp.pixel_array.astype(np.float32) * rescaleSlope + rescaleIntercept\n",
    "    \n",
    "    ds = dcm.read_file(listFilesDCM[firstSlice])\n",
    "    \n",
    "    return pixArray, constPixDim, ds"
   ]
  },
  {
   "cell_type": "code",
   "execution_count": null,
   "metadata": {
    "collapsed": true
   },
   "outputs": [],
   "source": []
  }
 ],
 "metadata": {
  "kernelspec": {
   "display_name": "Python 2",
   "language": "python",
   "name": "python2"
  },
  "language_info": {
   "codemirror_mode": {
    "name": "ipython",
    "version": 2
   },
   "file_extension": ".py",
   "mimetype": "text/x-python",
   "name": "python",
   "nbconvert_exporter": "python",
   "pygments_lexer": "ipython2",
   "version": "2.7.12"
  }
 },
 "nbformat": 4,
 "nbformat_minor": 0
}
