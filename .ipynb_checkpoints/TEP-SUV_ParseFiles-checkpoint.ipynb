{
 "cells": [
  {
   "cell_type": "markdown",
   "metadata": {},
   "source": [
    "\\noindent __Erwann Rault__  \n",
    "_Centre Oscar Lambret (Lille)_"
   ]
  },
  {
   "cell_type": "code",
   "execution_count": 3,
   "metadata": {
    "code_folding": [
     0
    ],
    "collapsed": false
   },
   "outputs": [],
   "source": [
    "# DRAW MATPLOTLIB IN NOTEBOOK #\n",
    "\n",
    "%matplotlib inline\n",
    "# %matplotlib notebook\n"
   ]
  },
  {
   "cell_type": "code",
   "execution_count": 4,
   "metadata": {
    "code_folding": [
     0
    ],
    "collapsed": false
   },
   "outputs": [],
   "source": [
    "# LIBRARIES #\n",
    "\n",
    "import numpy as np\n",
    "import dicom as dcm\n",
    "import matplotlib.pyplot as plt\n",
    "import datetime\n",
    "\n",
    "from scipy import ndimage\n",
    "from ipywidgets import *\n",
    "from IPython import display\n",
    "from mpl_toolkits.axes_grid1 import make_axes_locatable\n",
    "from matplotlib import gridspec\n",
    "import os\n",
    "\n",
    "import warnings\n",
    "warnings.filterwarnings('ignore')\n"
   ]
  },
  {
   "cell_type": "code",
   "execution_count": 5,
   "metadata": {
    "code_folding": [
     0
    ],
    "collapsed": false
   },
   "outputs": [],
   "source": [
    "# CONSTANTES #\n",
    "\n",
    "# layout definitions:\n",
    "BOX_LAYOUT_STD = Layout(display='flex',\n",
    "                    flex_flow='row wrap',\n",
    "                    justify_content='flex-start',\n",
    "                    width='100%')\n",
    "\n",
    "BOX_LAYOUT_RIGHT = Layout(display='flex',\n",
    "                    flex_flow='row wrap',\n",
    "                    justify_content='flex-end',\n",
    "                    border='solid 0.5px #EEE',\n",
    "                    width='100%')\n"
   ]
  },
  {
   "cell_type": "code",
   "execution_count": 6,
   "metadata": {
    "code_folding": [],
    "collapsed": false
   },
   "outputs": [],
   "source": [
    "# INPUT VARIABLES #\n",
    "\n",
    "# Dicom file:\n",
    "DCM_FILE_PATH = 'X:/Med Nuc/CQ TEP-CT/CQ SUV/CQ EARL 2017.04.27'\n"
   ]
  },
  {
   "cell_type": "code",
   "execution_count": 7,
   "metadata": {
    "code_folding": [
     0
    ],
    "collapsed": false
   },
   "outputs": [
    {
     "name": "stdout",
     "output_type": "stream",
     "text": [
      "Image no 1 : CTAC\n",
      "  > File : X:/Med Nuc/CQ TEP-CT/CQ SUV/CQ EARL 2017.04.27\\CT.1.2.840.113619.2.290.3.346820099.234.1493273540.587.1.dcm\n",
      "  > study UID : 1.2.840.113619.2.290.3.346820099.234.1493273540.582\n",
      "  > series UID : 1.2.840.113619.2.290.3.346820099.234.1493273540.586\n",
      "  > nb pix x : 512\n",
      "  > nb pix y : 512\n",
      "  > kV:  120\n",
      "  > nb slices: 83\n",
      " \n",
      "Image no 2 : PET noAC\n",
      "  > File : X:/Med Nuc/CQ TEP-CT/CQ SUV/CQ EARL 2017.04.27\\PI.1.2.840.113619.2.290.346820099.1493308212.906645.dcm\n",
      "  > study UID : 1.2.840.113619.2.290.3.346820099.234.1493273540.582\n",
      "  > series UID : 1.2.840.113619.2.290.3.346820099.234.1493273540.673\n",
      "  > nb pix x : 256\n",
      "  > nb pix y : 256\n",
      "  > kV: no value found\n",
      "  > nb slices: 47\n",
      " \n",
      "Image no 3 : PET AC EARL _STD\n",
      "  > File : X:/Med Nuc/CQ TEP-CT/CQ SUV/CQ EARL 2017.04.27\\PI.1.2.840.113619.2.290.346820099.1493308312.985587.dcm\n",
      "  > study UID : 1.2.840.113619.2.290.3.346820099.234.1493273540.582\n",
      "  > series UID : 1.2.840.113619.2.290.3.346820099.234.1493273540.672\n",
      "  > nb pix x : 256\n",
      "  > nb pix y : 256\n",
      "  > kV: no value found\n",
      "  > nb slices: 83\n"
     ]
    }
   ],
   "source": [
    "# PARSE ALL DICOM FILES IN THE DIRECTORY #\n",
    "\n",
    "# Get the file list\n",
    "listFilesDCM = []  # creates an empty list\n",
    "for dirName, subdirList, fileList in os.walk(DCM_FILE_PATH):\n",
    "    for filename in fileList:\n",
    "        if \".dcm\" in filename.lower():  # check whether the file's DICOM\n",
    "            listFilesDCM.append(os.path.join(dirName,filename))\n",
    "            \n",
    "            \n",
    "# essayer avec series instance UID:\n",
    "seriesDescr = 'beginning_prgm'\n",
    "seriesUID = ''\n",
    "nbslices = 0\n",
    "NB_IMGS = 0\n",
    "for filenameDCM in listFilesDCM:\n",
    "    ds = dcm.read_file(filenameDCM)\n",
    "    if (seriesUID != ds.SeriesInstanceUID):\n",
    "        if (seriesUID != ''):\n",
    "            print '  > nb slices:', nbslices\n",
    "            print ' '\n",
    "        NB_IMGS = NB_IMGS + 1\n",
    "        seriesDescr = ds[0x0008,0x103E].value\n",
    "        seriesUID = ds.SeriesInstanceUID\n",
    "        nbslices = 1\n",
    "        if (seriesDescr != 'Dose Record'):\n",
    "            print 'Image no', NB_IMGS, ':', seriesDescr\n",
    "            print '  > File :', filenameDCM\n",
    "            print '  > study UID :',  ds.StudyInstanceUID \n",
    "            print '  > series UID :', seriesUID\n",
    "            print '  > nb pix x :', ds.Rows\n",
    "            print '  > nb pix y :', ds.Columns\n",
    "            try: \n",
    "                kv = ds[0x0018,0x0060].value\n",
    "                print '  > kV: ', kv\n",
    "            except:\n",
    "                print '  > kV: no value found'\n",
    "        else:\n",
    "            print 'Image no', NB_IMGS, ':', seriesDescr\n",
    "            print '  > study UID :',  ds.StudyInstanceUID \n",
    "            print '  > series UID :', seriesUID\n",
    "    else:\n",
    "        nbslices = nbslices + 1\n",
    "print '  > nb slices:', nbslices"
   ]
  },
  {
   "cell_type": "code",
   "execution_count": 8,
   "metadata": {
    "collapsed": true
   },
   "outputs": [],
   "source": [
    "SERIES_UID = '1.2.840.113619.2.290.3.346820099.234.1493273540.672'"
   ]
  },
  {
   "cell_type": "markdown",
   "metadata": {},
   "source": [
    "# Acquisition information"
   ]
  },
  {
   "cell_type": "code",
   "execution_count": 9,
   "metadata": {
    "code_folding": [
     0
    ],
    "collapsed": false
   },
   "outputs": [],
   "source": [
    "# READS THE DICOM FILE #\n",
    "\n",
    "\n",
    "def readDicomFile(filepath):\n",
    "    \"\"\"\n",
    "    Reads the dicom files and returns an array containing the image,\n",
    "    the dimension of the image, and the ref. dicom file to be able \n",
    "    to access dicom tags.\n",
    "    Parameters:\n",
    "      filepath - path to the folder containing the dicom files of the image\n",
    "    Return:\n",
    "      pixArray - array containing the image\n",
    "      constPixDim - dimension of the image\n",
    "      ds - reference dicom file\n",
    "    \"\"\"\n",
    "\n",
    "    # Get the file list\n",
    "    listFilesDCM = []  # creates an empty list\n",
    "    for dirName, subdirList, fileList in os.walk(filepath):\n",
    "        for filename in fileList:\n",
    "            if \".dcm\" in filename.lower():  # check whether the file's DICOM\n",
    "                listFilesDCM.append(os.path.join(dirName,filename))\n",
    "\n",
    "    # Get ref file\n",
    "    ds = dcm.read_file(listFilesDCM[0])\n",
    "\n",
    "    # Load dimensions:\n",
    "    nb_pixel_x = int(ds.Rows)\n",
    "    nb_pixel_y = int(ds.Columns)\n",
    "    nb_slices = len(listFilesDCM)\n",
    "    constPixDim = [nb_slices, nb_pixel_y, nb_pixel_x]\n",
    "    pixArray = np.zeros(constPixDim, dtype=np.float32)\n",
    "\n",
    "    # loop through all the DICOM files\n",
    "    for filenameDCM in listFilesDCM:\n",
    "        dstmp = dcm.read_file(filenameDCM)\n",
    "        try:\n",
    "            rescaleIntercept = ds[0x0028,0x1052].value\n",
    "            rescaleSlope = ds[0x0028,0x1053].value\n",
    "            pixArray[listFilesDCM.index(filenameDCM),:,:] = dstmp.pixel_array.astype(np.float32) * rescaleSlope + rescaleIntercept\n",
    "        except KeyError:\n",
    "            rescaleIntercept = 0\n",
    "            rescaleSlope = 1\n",
    "\n",
    "    return pixArray, constPixDim, ds"
   ]
  },
  {
   "cell_type": "code",
   "execution_count": 10,
   "metadata": {
    "code_folding": [
     0
    ],
    "collapsed": true
   },
   "outputs": [],
   "source": [
    "# READS THE DICOM FILE #\n",
    "\n",
    "\n",
    "def readDicomFile(filepath, seriesUID):\n",
    "    \"\"\"\n",
    "    Reads the dicom files and returns an array containing the image\n",
    "    corresponding to the seriesUID given as an argument, the dimension \n",
    "    of the image, and the ref. dicom file to be able to access dicom tags.\n",
    "    Parameters:\n",
    "      filepath - path to the folder containing the dicom files of the image\n",
    "    Return:\n",
    "      pixArray - array containing the image\n",
    "      constPixDim - dimension of the image\n",
    "      ds - reference dicom file\n",
    "    \"\"\"\n",
    "\n",
    "    # Get the file list\n",
    "    listFilesDCM = []  # creates an empty list\n",
    "    for dirName, subdirList, fileList in os.walk(filepath):\n",
    "        for filename in fileList:\n",
    "            if \".dcm\" in filename.lower():  # check whether the file's DICOM\n",
    "                listFilesDCM.append(os.path.join(dirName,filename))\n",
    "\n",
    "    # finds ref. img and load dimensions:\n",
    "    firstSlice = 0\n",
    "    nboffiles = len(listFilesDCM)\n",
    "    dstmp = dcm.read_file(listFilesDCM[firstSlice])\n",
    "    while ((dstmp.SeriesInstanceUID != seriesUID)and(firstSlice<nboffiles-1)):\n",
    "        firstSlice = firstSlice+1\n",
    "        dstmp = dcm.read_file(listFilesDCM[firstSlice])\n",
    "    nb_pixel_x = int(dstmp.Rows)\n",
    "    nb_pixel_y = int(dstmp.Columns)\n",
    "\n",
    "    nb_slices = 0\n",
    "    for i in range(firstSlice,len(listFilesDCM)):\n",
    "        dstmp = dcm.read_file(listFilesDCM[i])\n",
    "        if (dstmp.SeriesInstanceUID == seriesUID):\n",
    "            nb_slices = nb_slices + 1\n",
    "\n",
    "    constPixDim = [nb_slices, nb_pixel_y, nb_pixel_x]\n",
    "    pixArray = np.zeros(constPixDim, dtype=np.float32)\n",
    "    \n",
    "    for i in range(firstSlice, firstSlice+nb_slices):\n",
    "        dstmp = dcm.read_file(listFilesDCM[i])\n",
    "        try:\n",
    "            rescaleIntercept = dstmp[0x0028,0x1052].value\n",
    "            rescaleSlope = dstmp[0x0028,0x1053].value\n",
    "        except KeyError:\n",
    "            rescaleIntercept = 0\n",
    "            rescaleSlope = 1\n",
    "        pixArray[i-firstSlice,:,:] = dstmp.pixel_array.astype(np.float32) * rescaleSlope + rescaleIntercept\n",
    "    \n",
    "    ds = dcm.read_file(listFilesDCM[firstSlice])\n",
    "    \n",
    "    return pixArray, constPixDim, ds"
   ]
  },
  {
   "cell_type": "code",
   "execution_count": 11,
   "metadata": {
    "code_folding": [
     0
    ],
    "collapsed": false
   },
   "outputs": [],
   "source": [
    "# GET RELEVANT INFORMATION FROM DICOM FILE #\n",
    "\n",
    "def getAndPrintRelevantInfo(ds, arrayDim):\n",
    "    \"\"\"\n",
    "    Get relevant information from the dicom image.\n",
    "    Parameters:\n",
    "      ds - dicom image\n",
    "      arrayDim - image dimension\n",
    "    Return:\n",
    "      pixArray - array containing the image\n",
    "      constPixDim - dimension of the image\n",
    "      ds - reference dicom file\n",
    "    \"\"\"\n",
    "\n",
    "    study_date = ds.StudyDate\n",
    "    scan_time = ds[0x0008,0x0032].value\n",
    "\n",
    "    print \"Patient name: \", ds.PatientName\n",
    "    print \"Patient ID: \", ds[0x0020,0x0010].value\n",
    "    print \"File path:\",DCM_FILE_PATH\n",
    "    print \" \"\n",
    "    print \"Scan date: \", study_date\n",
    "    print \"Image size:\", arrayDim[2], \"x\",arrayDim[1], \"x\", arrayDim[0]\n",
    "    try:\n",
    "        print \"Rescale slope:\", ds[0x0028,0x1052].value\n",
    "        print \"Rescale intercept:\", ds[0x0028,0x1053].value\n",
    "    except:\n",
    "        print \"Rescale slope:\", 1\n",
    "        print \"Rescale intercept:\", 0\n",
    "    print \" \"\n",
    "    print \"System: \", ds[0x0008,0x0070].value\n",
    "    print \"        \", ds[0x0008,0x1010].value\n"
   ]
  },
  {
   "cell_type": "code",
   "execution_count": 12,
   "metadata": {
    "code_folding": [
     0
    ],
    "collapsed": false
   },
   "outputs": [
    {
     "name": "stdout",
     "output_type": "stream",
     "text": [
      "Patient name:  zzzEARL-cal\n",
      "Patient ID:  16147\n",
      "File path: X:/Med Nuc/CQ TEP-CT/CQ SUV/CQ EARL 2017.04.27\n",
      " \n",
      "Scan date:  20170427\n",
      "Image size: 256 x 256 x 83\n",
      "Rescale slope: 0\n",
      "Rescale intercept: 0.0230401\n",
      " \n",
      "System:  GE MEDICAL SYSTEMS\n",
      "         D690\n"
     ]
    }
   ],
   "source": [
    "# READS THE DICOM FILE #\n",
    "\n",
    "if NB_IMGS==1:\n",
    "    pixArray, arrayDim, ds = readDicomFile(DCM_FILE_PATH)\n",
    "    getAndPrintRelevantInfo(ds, arrayDim)\n",
    "else:\n",
    "    pixArray, arrayDim, ds = readDicomFile(DCM_FILE_PATH, SERIES_UID)\n",
    "    getAndPrintRelevantInfo(ds, arrayDim)\n"
   ]
  },
  {
   "cell_type": "code",
   "execution_count": 13,
   "metadata": {
    "code_folding": [
     0
    ],
    "collapsed": false
   },
   "outputs": [
    {
     "data": {
      "image/png": "[encoded data removed]",
      "text/plain": [
       "<matplotlib.figure.Figure at 0x7f0c0f0>"
      ]
     },
     "metadata": {},
     "output_type": "display_data"
    }
   ],
   "source": [
    "# DISPLAY AN OVERVIEW OF LOADED IMGS #\n",
    "\n",
    "def onRefreshButtonClicked(b):\n",
    "    if (minslider.value>maxslider.value):\n",
    "        print \"Erreur: min > max\"\n",
    "    else:\n",
    "        im1.set_data(pixArray[0,:,:])\n",
    "        im1.set_clim(vmin=minslider.value, vmax=maxslider.value)\n",
    "        im2.set_data(pixArray[int(arrayDim[0]/6),:,:])\n",
    "        im2.set_clim(vmin=minslider.value, vmax=maxslider.value)\n",
    "        im3.set_data(pixArray[int(2*arrayDim[0]/6),:,:])\n",
    "        im3.set_clim(vmin=minslider.value, vmax=maxslider.value)\n",
    "        im4.set_data(pixArray[int(3*arrayDim[0]/6),:,:])\n",
    "        im4.set_clim(vmin=minslider.value, vmax=maxslider.value)\n",
    "        im5.set_data(pixArray[int(4*arrayDim[0]/6),:,:])\n",
    "        im5.set_clim(vmin=minslider.value, vmax=maxslider.value)\n",
    "        im6.set_data(pixArray[int(5*arrayDim[0]/6),:,:])\n",
    "        im6.set_clim(vmin=minslider.value, vmax=maxslider.value)\n",
    "    display.clear_output(wait=True)\n",
    "    display.display(fig)\n",
    "    \n",
    "# Plot size\n",
    "plt.rcParams['figure.figsize'] = (15,9)\n",
    "\n",
    "# min, max of main image:\n",
    "mini, maxi = np.amin(pixArray), np.amax(pixArray)\n",
    "\n",
    "# Plots the images:\n",
    "fig = plt.figure()\n",
    "gs = gridspec.GridSpec(2,3)\n",
    "\n",
    "ax1 = fig.add_subplot(gs[0])\n",
    "im1 = ax1.imshow(pixArray[0,:,:], cmap=\"Greys\", vmin = -100, vmax = 100)\n",
    "ax1.axes.get_xaxis().set_visible(False)\n",
    "ax1.axes.get_yaxis().set_visible(False)\n",
    "ax1.axes.autoscale(False)\n",
    "\n",
    "ax2 = fig.add_subplot(gs[1])\n",
    "im2 = ax2.imshow(pixArray[int(arrayDim[0]/6),:,:], cmap=\"Greys\", vmin = -100, vmax = 100)\n",
    "ax2.axes.get_xaxis().set_visible(False)\n",
    "ax2.axes.get_yaxis().set_visible(False)\n",
    "ax2.axes.autoscale(False)\n",
    "\n",
    "ax3 = fig.add_subplot(gs[2])\n",
    "im3 = ax3.imshow(pixArray[int(arrayDim[0]*2/6),:,:], cmap=\"Greys\", vmin = -100, vmax = 100)\n",
    "ax3.axes.get_xaxis().set_visible(False)\n",
    "ax3.axes.get_yaxis().set_visible(False)\n",
    "ax3.axes.autoscale(False)\n",
    "\n",
    "ax4 = fig.add_subplot(gs[3])\n",
    "im4 = ax4.imshow(pixArray[int(arrayDim[0]*3/6),:,:], cmap=\"Greys\", vmin = -100, vmax = 100)\n",
    "ax4.axes.get_xaxis().set_visible(False)\n",
    "ax4.axes.get_yaxis().set_visible(False)\n",
    "ax4.axes.autoscale(False)\n",
    "\n",
    "ax5 = fig.add_subplot(gs[4])\n",
    "im5 = ax5.imshow(pixArray[int(arrayDim[0]*4/6),:,:], cmap=\"Greys\", vmin = -100, vmax = 100)\n",
    "ax5.axes.get_xaxis().set_visible(False)\n",
    "ax5.axes.get_yaxis().set_visible(False)\n",
    "ax5.axes.autoscale(False)\n",
    "\n",
    "ax6 = fig.add_subplot(gs[5])\n",
    "im6 = ax6.imshow(pixArray[int(arrayDim[0]*5/6),:,:], cmap=\"Greys\", vmin = -100, vmax = 100)\n",
    "ax6.axes.get_xaxis().set_visible(False)\n",
    "ax6.axes.get_yaxis().set_visible(False)\n",
    "ax6.axes.autoscale(False)\n",
    "\n",
    "try:\n",
    "    divider1 = make_axes_locatable(ax1)\n",
    "    cax1 = divider1.append_axes(\"right\", size=\"5%\", pad=0.1)\n",
    "    plt.colorbar(im1, cax=cax1)\n",
    "    divider2 = make_axes_locatable(ax2)\n",
    "    cax2 = divider2.append_axes(\"right\", size=\"5%\", pad=0.1)\n",
    "    plt.colorbar(im2, cax=cax2)\n",
    "    divider3 = make_axes_locatable(ax3)\n",
    "    cax3 = divider3.append_axes(\"right\", size=\"5%\", pad=0.1)\n",
    "    plt.colorbar(im3, cax=cax3)\n",
    "    divider4 = make_axes_locatable(ax4)\n",
    "    cax4 = divider4.append_axes(\"right\", size=\"5%\", pad=0.1)\n",
    "    plt.colorbar(im4, cax=cax4)\n",
    "    divider5 = make_axes_locatable(ax5)\n",
    "    cax5 = divider5.append_axes(\"right\", size=\"5%\", pad=0.1)\n",
    "    plt.colorbar(im5, cax=cax5)\n",
    "    divider6 = make_axes_locatable(ax6)\n",
    "    cax6 = divider6.append_axes(\"right\", size=\"5%\", pad=0.1)\n",
    "    plt.colorbar(im6, cax=cax6)\n",
    "except : \n",
    "    print 'Error!'\n",
    "\n",
    "# Ipywidgets:\n",
    "minslider  = FloatSlider(value=-100, min=mini, max=maxi, \n",
    "                         step=(maxi-mini)/100, description='min', width='40%')\n",
    "maxslider  = FloatSlider(value=100, min=mini, max=maxi*1.5, \n",
    "                         step=(maxi-mini)/100, description='max', width='40%')\n",
    "\n",
    "refresh_button = Button(description=\"Refresh!\", width='25%') #, height='100px'\n",
    "refresh_button.on_click(onRefreshButtonClicked)\n",
    "\n",
    "items1 = [\n",
    "    Label(value=\"Visualization window:\", width='90%'),\n",
    "    minslider,\n",
    "    maxslider,\n",
    "    Label(value=\". \", width='90%'),\n",
    "    Label(value=\"Center:\", width='90%'),\n",
    " ]\n",
    "items2 = [\n",
    "    refresh_button,\n",
    "]\n",
    "\n",
    "box1 = Box(children=items1, layout=BOX_LAYOUT_STD)\n",
    "box2 = Box(children=items2, layout=BOX_LAYOUT_RIGHT)\n",
    "display.display(box1)\n",
    "display.display(box2)\n"
   ]
  },
  {
   "cell_type": "markdown",
   "metadata": {
    "collapsed": true
   },
   "source": [
    "# Remarks:\n",
    "\n"
   ]
  },
  {
   "cell_type": "markdown",
   "metadata": {
    "collapsed": true
   },
   "source": []
  }
 ],
 "metadata": {
  "kernelspec": {
   "display_name": "Python 2",
   "language": "python",
   "name": "python2"
  },
  "language_info": {
   "codemirror_mode": {
    "name": "ipython",
    "version": 2
   },
   "file_extension": ".py",
   "mimetype": "text/x-python",
   "name": "python",
   "nbconvert_exporter": "python",
   "pygments_lexer": "ipython2",
   "version": "2.7.12"
  },
  "widgets": {
   "state": {
    "caeac7fae9ae456182c8c9e7dc83e361": {
     "views": [
      {
       "cell_index": 12
      }
     ]
    },
    "f341e2f6cf8545499fe7a80081db6779": {
     "views": [
      {
       "cell_index": 12
      }
     ]
    }
   },
   "version": "1.2.0"
  }
 },
 "nbformat": 4,
 "nbformat_minor": 0
}
