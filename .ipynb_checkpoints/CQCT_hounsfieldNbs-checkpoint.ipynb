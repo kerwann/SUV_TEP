{
 "cells": [
  {
   "cell_type": "markdown",
   "metadata": {},
   "source": [
    "\\noindent __Erwann Rault__  \n",
    "_Centre Oscar Lambret (Lille)_"
   ]
  },
  {
   "cell_type": "code",
   "execution_count": 2,
   "metadata": {
    "code_folding": [
     0
    ],
    "collapsed": false
   },
   "outputs": [],
   "source": [
    "# DRAW MATPLOTLIB IN NOTEBOOK #\n",
    "\n",
    "%matplotlib inline\n",
    "# %matplotlib notebook\n"
   ]
  },
  {
   "cell_type": "code",
   "execution_count": 3,
   "metadata": {
    "code_folding": [
     0
    ],
    "collapsed": false
   },
   "outputs": [],
   "source": [
    "# LIBRARIES #\n",
    "\n",
    "import numpy as np\n",
    "import dicom as dcm\n",
    "import matplotlib.pyplot as plt\n",
    "import math\n",
    "import time\n",
    "import datetime\n",
    "\n",
    "from scipy import ndimage\n",
    "from ipywidgets import *\n",
    "\n",
    "from IPython import display\n",
    "from mpl_toolkits.axes_grid1 import make_axes_locatable\n",
    "from matplotlib import gridspec\n",
    "from os.path import basename\n",
    "\n",
    "import warnings\n",
    "warnings.filterwarnings('ignore')\n"
   ]
  },
  {
   "cell_type": "code",
   "execution_count": 4,
   "metadata": {
    "code_folding": [],
    "collapsed": false
   },
   "outputs": [],
   "source": [
    "# INPUT VARIABLES #\n",
    "\n",
    "filepath = 'X:/Med Nuc/CQ TEP-CT/CQ SUV/CQ 2016.09.14/TEP AC/'\n",
    "nbOfFiles = 84\n",
    "\n",
    "Ainj = 24.35 #MBq\n",
    "Tinj = datetime.datetime(2016,9,14,16,36,0)\n",
    "\n",
    "Ares = 0.045 #MBq\n",
    "Tres = datetime.datetime(2016,9,14,16,38,0)\n",
    "\n",
    "# CSTES #\n",
    "isotopeName = \"F18\"\n",
    "T1demi = 1.8295 # hours, half life from the isotope\n",
    "margeROI = -5 #pix\n",
    "thresholdPhantom = 0.2"
   ]
  },
  {
   "cell_type": "markdown",
   "metadata": {},
   "source": [
    "# Acquisition information"
   ]
  },
  {
   "cell_type": "code",
   "execution_count": 5,
   "metadata": {
    "code_folding": [
     0
    ],
    "collapsed": false
   },
   "outputs": [],
   "source": [
    "# READS THE DICOM FILE #\n",
    "\n",
    "# Get the file list\n",
    "listFilesDCM = []  # creates an empty list\n",
    "for dirName, subdirList, fileList in os.walk(filepath):\n",
    "    for filename in fileList:\n",
    "        if \".dcm\" in filename.lower():  # check whether the file's DICOM\n",
    "            listFilesDCM.append(os.path.join(dirName,filename))\n",
    "\n",
    "# Get ref file\n",
    "ds = dcm.read_file(listFilesDCM[0])\n",
    "\n",
    "# Load dimensions:\n",
    "nb_pixel_x = int(ds.Rows)\n",
    "nb_pixel_y = int(ds.Columns)\n",
    "nb_slices = len(listFilesDCM)\n",
    "constPixDim = (nb_slices, nb_pixel_y, nb_pixel_x)\n",
    "pixArray = np.zeros(constPixDim, dtype=np.float32)\n",
    "\n",
    "# loop through all the DICOM files\n",
    "try:\n",
    "    rescaleIntercept = ds[0x0028,0x1052].value\n",
    "    rescaleSlope = ds[0x0028,0x1053].value\n",
    "except KeyError:\n",
    "    rescaleIntercept = 0\n",
    "    rescaleSlope = 1\n",
    "    \n",
    "for filenameDCM in listFilesDCM:\n",
    "    dstmp = dcm.read_file(filenameDCM)\n",
    "    pixArray[listFilesDCM.index(filenameDCM),:,:] = dstmp.pixel_array.astype(np.float32) * rescaleSlope + rescaleIntercept\n"
   ]
  },
  {
   "cell_type": "code",
   "execution_count": 63,
   "metadata": {
    "code_folding": [
     0
    ],
    "collapsed": true
   },
   "outputs": [],
   "source": [
    "# CONVERT DICOM TIME INFO TO DATETIME #\n",
    "\n",
    "def convertToDatetime(date, time):\n",
    "    year = int(int(date)/10000)\n",
    "    month = int(int(date)/100-year*100)\n",
    "    day = int(int(date)-year*10000-month*100)\n",
    "    hour = int(float(time)/10000)\n",
    "    minute = int(float(time)/100-hour*100)\n",
    "    seconds =  int(float(time)-minute*100-hour*10000)\n",
    "    return datetime.datetime(year, month, day, hour, minute, seconds)"
   ]
  },
  {
   "cell_type": "code",
   "execution_count": 64,
   "metadata": {
    "code_folding": [
     0
    ],
    "collapsed": false
   },
   "outputs": [
    {
     "name": "stdout",
     "output_type": "stream",
     "text": [
      "Patient name:  zzzTestSUV\n",
      "Patient ID:  14113\n",
      "File name: \n",
      " \n",
      "Injected Isotope:  F18 (half life: 1.8295 h)\n",
      "Radiopharmaceutical:  FDG -- fluorodeoxyglucose\n",
      "Injected activity:  24.35  MBq @  2016-09-14 16:36:00\n",
      "Residual activity:  0.045  MBq @  2016-09-14 16:38:00\n",
      "Radionuclide volume 5640 mL\n",
      " \n",
      "Scan date and time:  2016-09-14 17:27:09\n",
      "Scan duration:  120 s\n",
      "Image size: 256 x 256 x 83\n",
      "Energy window:  425 to 650 keV\n",
      "Image units: BQML\n",
      "Reconstruction corrections: ['DECY', 'ATTN', 'SCAT', 'DTIM', 'RANSNG', 'DCAL', 'SLSENS', 'NORM']\n",
      "Scatter correction method: Model Based\n",
      "Dose calibration factor: 33498\n",
      "Scatter fraction factor: 0.260977\n",
      "Dead time factor: 1.01763\n",
      "Rescale slope: 0.153565\n",
      "Rescale intercept: 0.0\n",
      " \n",
      "TEP system:  GE MEDICAL SYSTEMS\n",
      "             D690\n"
     ]
    }
   ],
   "source": [
    "# GET RELEVANT INFORMATION FROM DICOM FILE #\n",
    "\n",
    "patient_name = ds.PatientName\n",
    "\n",
    "study_date = ds.StudyDate\n",
    "scan_time = ds[0x0008,0x0032].value\n",
    "acq_datetime = convertToDatetime(study_date,scan_time)\n",
    "\n",
    "recons_corrections = ds[0x0028,0x0051].value\n",
    "frame_duration = ds[0x0018,0x1242].value / 1000 #in ms\n",
    "phantomVolume = ds[0x0054,0x0016][0][0x0018,0x1071].value\n",
    "\n",
    "print \"Patient name: \", patient_name\n",
    "print \"Patient ID: \", ds[0x0020,0x0010].value\n",
    "print \"File name:\", basename(filepath)\n",
    "print \" \"\n",
    "print \"Injected Isotope: \", isotopeName, \"(half life:\", T1demi,\"h)\"\n",
    "print \"Radiopharmaceutical: \", ds[0x0054,0x0016][0][0x0018,0x0031].value\n",
    "print \"Injected activity: \", Ainj, \" MBq @ \", Tinj\n",
    "print \"Residual activity: \", Ares, \" MBq @ \", Tres\n",
    "print \"Radionuclide volume\", phantomVolume, \"mL\"\n",
    "print \" \"\n",
    "print \"Scan date and time: \", acq_datetime\n",
    "print \"Scan duration: \", frame_duration, \"s\"\n",
    "print \"Image size: {0} x {1} x {2}\" .\\\n",
    "                format(constPixDim[2], constPixDim[1], constPixDim[0])\n",
    "print \"Energy window: \", ds[0x0054,0x0013][0][0x0054,0x0014].value, \"to\", ds[0x0054,0x0013][0][0x0054,0x0015].value, \"keV\"\n",
    "print \"Image units:\", ds[0x0054,0x1001].value\n",
    "print \"Reconstruction corrections:\", recons_corrections\n",
    "print \"Scatter correction method:\", ds[0x0054,0x1105].value\n",
    "print \"Dose calibration factor:\", ds[0x0054,0x1322].value\n",
    "print \"Scatter fraction factor:\", ds[0x0054,0x1323].value\n",
    "print \"Dead time factor:\", ds[0x0054,0x1324].value\n",
    "print \"Rescale slope:\", rescaleSlope\n",
    "print \"Rescale intercept:\", rescaleIntercept\n",
    "print \" \"\n",
    "print \"TEP system: \", ds[0x0008,0x0070].value\n",
    "print \"            \", ds[0x0008,0x1010].value\n"
   ]
  },
  {
   "cell_type": "markdown",
   "metadata": {},
   "source": [
    "# SUV calibration factor"
   ]
  },
  {
   "cell_type": "code",
   "execution_count": 65,
   "metadata": {
    "code_folding": [
     0
    ],
    "collapsed": true
   },
   "outputs": [],
   "source": [
    "# LAYOUT DEFINITIONS #\n",
    "\n",
    "box_layout_std = Layout(display='flex',\n",
    "                    flex_flow='row wrap',\n",
    "                    justify_content='flex-start',\n",
    "                    width='100%')\n",
    "\n",
    "box_layout_right = Layout(display='flex',\n",
    "                    flex_flow='row wrap',\n",
    "                    justify_content='flex-end',\n",
    "                    border='solid 0.5px #EEE',\n",
    "                    width='100%')\n"
   ]
  },
  {
   "cell_type": "code",
   "execution_count": 66,
   "metadata": {
    "code_folding": [
     0
    ],
    "collapsed": true
   },
   "outputs": [],
   "source": [
    "# FINDS THE SUV PHANTOM IN THE IMAGE #\n",
    "\n",
    "# function to find the phantom dimension and center in the image\n",
    "def findPhantom(img, dimx, dimy, dimz, tp):\n",
    "    #com = ndimage.measurements.center_of_mass(img)\n",
    "    com = ndimage.measurements.maximum_position(img)\n",
    "\n",
    "    maxx = ndimage.measurements.maximum(img[com[0],com[1],:])\n",
    "    x1 = 0\n",
    "    while (img[com[0],com[1],x1]<maxx*tp):\n",
    "        x1 = x1+1\n",
    "    x2 = dimx-1\n",
    "    while (img[com[0],com[1],x2]<maxx*tp):\n",
    "        x2 = x2-1\n",
    "    x1=x1-1\n",
    "    x2=x2+1\n",
    "    \n",
    "    maxy = ndimage.measurements.maximum(img[com[0],:,com[2]])\n",
    "    y1 = 0\n",
    "    while (img[com[0],y1,com[2]]<maxy*tp):\n",
    "        y1 = y1+1\n",
    "    y2 = dimy-1\n",
    "    while (img[com[0],y2,com[2]]<maxy*tp):\n",
    "        y2 = y2-1\n",
    "    y1=y1-1\n",
    "    y2=y2+1\n",
    "\n",
    "    maxz = ndimage.measurements.maximum(img[:,com[1],com[2]])\n",
    "    z1 = 0\n",
    "    while (img[z1,com[1],com[2]]<maxz*tp):\n",
    "        z1 = z1+1\n",
    "    z2 = dimz-1\n",
    "    while (img[z2,com[1],com[2]]<maxz*tp):\n",
    "        z2 = z2-1\n",
    "    z1=z1-1\n",
    "    z2=z2+1\n",
    "    \n",
    "    centerx = int(x1+(x2-x1)/2)\n",
    "    centery = int(y1+(y2-y1)/2)\n",
    "    centerz = int(z1+(z2-z1)/2)\n",
    "    \n",
    "    if ((y2-y1)>(x2-1)):\n",
    "        radius =(y2-y1)/2\n",
    "    else:\n",
    "        radius = (x2-x1)/2\n",
    "    length = z2-z1\n",
    "\n",
    "    return [centerx, centery, centerz, radius, length]\n"
   ]
  },
  {
   "cell_type": "code",
   "execution_count": 76,
   "metadata": {
    "code_folding": [],
    "collapsed": false
   },
   "outputs": [],
   "source": [
    "# FUNCTION TO GET THE STATS INSIDE THE VOI #\n",
    "\n",
    "def get_stats(img, dimx, dimy, dimz, centerx, centery, centerz, r, h):\n",
    "    l = []\n",
    "    for k in range(int(centerz-h/2), int(centerz+h/2)):\n",
    "        for j in range(0, dimy):\n",
    "            for i in range(0, dimx):\n",
    "                if (math.sqrt((i-centerx)*(i-centerx)+(j-centery)*(j-centery))<=r):\n",
    "                    l.append(img[k,j,i])\n",
    "                    #m_img[k,j,i] = 0\n",
    "\n",
    "    return np.amin(l), np.amax(l), np.mean(l), np.std(l)"
   ]
  },
  {
   "cell_type": "code",
   "execution_count": 82,
   "metadata": {
    "code_folding": [
     0
    ],
    "collapsed": false,
    "scrolled": false
   },
   "outputs": [
    {
     "name": "stdout",
     "output_type": "stream",
     "text": [
      "Injected activity in the phantom:  3120.0 Bq/ml\n",
      "   \n",
      "Measured values in the VOI:\n",
      "  - min. activity:  2050.09 Bq/ml\n",
      "  - max. activity:  4813.03 Bq/ml\n",
      "  - mean activity:  3135.72 Bq/ml\n",
      "  - std deviation:  297.33 Bq/ml ( 9.48 %)\n",
      "   \n",
      "  >>> Test succeeded! (error 0.51 %)\n",
      "   \n",
      "   \n"
     ]
    },
    {
     "data": {
      "image/png": "[encoded data removed]",
      "text/plain": [
       "<matplotlib.figure.Figure at 0xc3e3ba8>"
      ]
     },
     "metadata": {},
     "output_type": "display_data"
    }
   ],
   "source": [
    "# MAIN INTERFACE #\n",
    "\n",
    "# Displays SUV calculation results\n",
    "def dispResults():\n",
    "    mini, maxi, mean, std = get_stats(pixArray, nb_pixel_x, nb_pixel_y, nb_slices,roi[0], \n",
    "                         roi[1], roi[2], roi[3]+margeROI, roi[4]+(2*margeROI))\n",
    "\n",
    "    t = (acq_datetime - Tinj).total_seconds()/3600.0\n",
    "    A = Ainj * math.exp(-t*math.log(2)/T1demi)\n",
    "    t = (acq_datetime - Tres).total_seconds()/3600.0\n",
    "    B = Ares * math.exp(-t*math.log(2)/T1demi)\n",
    "    Aph = (A-B)/phantomVolume*1000000\n",
    "    error = (mean-Aph)/Aph*100\n",
    "    \n",
    "    print 'Injected activity in the phantom: ', round(Aph,0), 'Bq/ml'\n",
    "    print '   ' \n",
    "    print 'Measured values in the VOI:'\n",
    "    print '  - min. activity: ', round(mini, 2), 'Bq/ml'\n",
    "    print '  - max. activity: ', round(maxi, 2), 'Bq/ml'\n",
    "    print '  - mean activity: ', round(mean, 2), 'Bq/ml'\n",
    "    print '  - std deviation: ', round(std, 2), 'Bq/ml (', round(std/mean*100,2),'%)'\n",
    "    print '   ' \n",
    "    if (abs(error)<10):\n",
    "        print '  >>> Test succeeded! (error', round(error,2), '%)'\n",
    "    else:\n",
    "        print '  >>> Important discrepancies! (error', round(error,2), '%)'\n",
    "        print '  >>> Calibration factor must be verified!'\n",
    "    print '   ' \n",
    "    print '   ' \n",
    "\n",
    "    \n",
    "# Draws circle centers\n",
    "def redrawCenters():\n",
    "    line1a[0].set_xdata([xslider.value-1,xslider.value+1])\n",
    "    line1a[0].set_ydata([zslider.value,zslider.value])\n",
    "    line1b[0].set_xdata([xslider.value,xslider.value])\n",
    "    line1b[0].set_ydata([zslider.value-1,zslider.value+1])\n",
    "    line2a[0].set_xdata([yslider.value-1,yslider.value+1])\n",
    "    line2a[0].set_ydata([zslider.value,zslider.value])\n",
    "    line2b[0].set_xdata([yslider.value,yslider.value])\n",
    "    line2b[0].set_ydata([zslider.value-1,zslider.value+1])\n",
    "    line3a[0].set_xdata([xslider.value-1,xslider.value+1])\n",
    "    line3a[0].set_ydata([yslider.value,yslider.value])\n",
    "    line3b[0].set_xdata([xslider.value,xslider.value])\n",
    "    line3b[0].set_ydata([yslider.value-1,yslider.value+1])\n",
    "        \n",
    "def refreshPlot(b):    \n",
    "    minv = minslider.value\n",
    "    maxv = maxslider.value\n",
    "    if (minv>maxv):\n",
    "        print \"Erreur: min > max\"\n",
    "    else:\n",
    "        im1.set_data(pixArray[:,yslider.value,:])\n",
    "        im1.set_clim(vmin=minv, vmax=maxv)\n",
    "        im2.set_data(pixArray[:,:,xslider.value])\n",
    "        im2.set_clim(vmin=minv, vmax=maxv)\n",
    "        im3.set_data(pixArray[zslider.value,:,:])\n",
    "        im3.set_clim(vmin=minv, vmax=maxv)\n",
    "    redrawCenters()\n",
    "    display.clear_output(wait=True)\n",
    "    display.display(fig)\n",
    "    dispResults()\n",
    "  \n",
    "# Plot size\n",
    "plt.rcParams['figure.figsize'] = (15,9)\n",
    "\n",
    "# min, max of main image:\n",
    "_min, _max = np.amin(pixArray), np.amax(pixArray)\n",
    "\n",
    "# Ipywidgets:\n",
    "minslider  = FloatSlider(value=_min, min=_min, max=_max, \n",
    "                         step=(_max-_min)/100, description='min', width='40%')\n",
    "maxslider  = FloatSlider(value=_max, min=_min, max=_max*1.5, \n",
    "                         step=(_max-_min)/100, description='max', width='40%')\n",
    "\n",
    "xslider = IntSlider(value=int(nb_pixel_x/2), min=0, max=nb_pixel_x-1, \n",
    "                    step=1, description=\"x\",width='40%')\n",
    "yslider = IntSlider(value=int(nb_pixel_y/2), min=0, max=nb_pixel_y-1, \n",
    "                    step=1, description=\"y\",width='40%')\n",
    "zslider = IntSlider(value=int(nb_slices/2), min=0, max=nb_slices-1, \n",
    "                    step=1, description=\"z\",width='40%')\n",
    "\n",
    "refresh_button = Button(description=\"Refresh!\", width='30%') #, height='100px'\n",
    "refresh_button.on_click(refreshPlot)\n",
    "\n",
    "items1 = [\n",
    "    Label(value=\"Visualization window:\", width='90%'),\n",
    "    minslider,\n",
    "    maxslider,\n",
    "    Label(value=\". \", width='90%'),\n",
    "    Label(value=\"View slices\", width='90%'),\n",
    "    xslider,\n",
    "    yslider,\n",
    "    zslider,\n",
    "    Label(value=\". \", width='90%'),\n",
    " ]\n",
    "items2 = [\n",
    "    refresh_button,\n",
    "]\n",
    "\n",
    "box1 = Box(children=items1, layout=box_layout_std)\n",
    "box2 = Box(children=items2, layout=box_layout_right)\n",
    "display.display(box1)\n",
    "display.display(box2)\n",
    "\n",
    "# Plots the images:\n",
    "fig = plt.figure()\n",
    "gs = gridspec.GridSpec(2, 3)\n",
    "\n",
    "max_pos = ndimage.measurements.maximum_position(pixArray)\n",
    "xslider.value = max_pos[2]\n",
    "yslider.value = max_pos[1]\n",
    "zslider.value = max_pos[0]\n",
    "\n",
    "ax1 = fig.add_subplot(gs[0,2])\n",
    "im1 = ax1.imshow(pixArray[:,yslider.value,:], cmap=\"hot\", vmin = _min, vmax = _max)\n",
    "ax1.set_title('Coronal')\n",
    "ax1.axes.get_xaxis().set_visible(False)\n",
    "ax1.axes.get_yaxis().set_visible(False)\n",
    "ax1.axes.autoscale(False)\n",
    "\n",
    "ax2 = fig.add_subplot(gs[1,2])\n",
    "im2 = ax2.imshow(pixArray[:,:,xslider.value], cmap=\"hot\", vmin = _min, vmax = _max)\n",
    "ax2.set_title('Sagittal')\n",
    "ax2.axes.get_xaxis().set_visible(False)\n",
    "ax2.axes.get_yaxis().set_visible(False)\n",
    "ax2.axes.autoscale(False)\n",
    "\n",
    "ax3 = fig.add_subplot(gs[:,:-1])\n",
    "im3 = ax3.imshow(pixArray[zslider.value,:,:], cmap=\"hot\", vmin = _min, vmax = _max)\n",
    "ax3.set_title('Transverse')\n",
    "ax3.axes.get_xaxis().set_visible(False)\n",
    "ax3.axes.get_yaxis().set_visible(False)\n",
    "ax3.axes.autoscale(False)\n",
    "\n",
    "roi = findPhantom(pixArray, nb_pixel_x, nb_pixel_y, nb_slices, thresholdPhantom)\n",
    "\n",
    "try:\n",
    "    divider3 = make_axes_locatable(ax3)\n",
    "    cax3 = divider3.append_axes(\"right\", size=\"5%\", pad=0.1)\n",
    "    plt.colorbar(im3, cax=cax3)\n",
    "    line1a = ax1.axes.plot([xslider.value-1,xslider.value+1], \n",
    "                  [zslider.value,zslider.value], \n",
    "                  color='blue', linestyle='-', linewidth=1)\n",
    "    line1b = ax1.axes.plot([xslider.value,xslider.value], \n",
    "                  [zslider.value-1,zslider.value+1], \n",
    "                  color='blue', linestyle='-', linewidth=1)\n",
    "    line2a = ax2.axes.plot([yslider.value-1,yslider.value+1], \n",
    "                  [zslider.value,zslider.value], \n",
    "                  color='blue', linestyle='-', linewidth=1)\n",
    "    line2b = ax2.axes.plot([yslider.value,yslider.value], \n",
    "                  [zslider.value-1,zslider.value+1], \n",
    "                  color='blue', linestyle='-', linewidth=1)\n",
    "    line3a = ax3.axes.plot([xslider.value-1,xslider.value+1], \n",
    "                  [yslider.value,yslider.value], \n",
    "                  color='blue', linestyle='-', linewidth=1)\n",
    "    line3b = ax3.axes.plot([xslider.value,xslider.value], \n",
    "                  [yslider.value-1,yslider.value+1], \n",
    "                  color='blue', linestyle='-', linewidth=1)\n",
    "    c1 = plt.Circle((roi[0], roi[1]), roi[3]+margeROI, fill=False, \n",
    "                      color='blue', linewidth=3)\n",
    "    ax3.axes.add_patch(c1)\n",
    "    r1 = plt.Rectangle((roi[0]-roi[3]-margeROI, roi[2]-roi[4]/2-margeROI), \n",
    "                      (roi[3]+margeROI)*2, roi[4]+2*margeROI, fill=False, \n",
    "                      color='blue', linewidth=3)\n",
    "    ax1.axes.add_patch(r1)\n",
    "    r2 = plt.Rectangle((roi[1]-roi[3]-margeROI, roi[2]-roi[4]/2-margeROI), \n",
    "                      (roi[3]+margeROI)*2, roi[4]+2*margeROI, fill=False, \n",
    "                      color='blue', linewidth=3)\n",
    "    ax2.axes.add_patch(r2)\n",
    "except Error: \n",
    "    print 'Error!'\n",
    "\n",
    "dispResults()\n",
    "\n",
    "\n"
   ]
  },
  {
   "cell_type": "markdown",
   "metadata": {
    "collapsed": true
   },
   "source": [
    "# Remarks:\n",
    "\n"
   ]
  },
  {
   "cell_type": "markdown",
   "metadata": {
    "collapsed": true
   },
   "source": []
  }
 ],
 "metadata": {
  "kernelspec": {
   "display_name": "Python 2",
   "language": "python",
   "name": "python2"
  },
  "language_info": {
   "codemirror_mode": {
    "name": "ipython",
    "version": 2
   },
   "file_extension": ".py",
   "mimetype": "text/x-python",
   "name": "python",
   "nbconvert_exporter": "python",
   "pygments_lexer": "ipython2",
   "version": "2.7.12"
  }
 },
 "nbformat": 4,
 "nbformat_minor": 0
}
